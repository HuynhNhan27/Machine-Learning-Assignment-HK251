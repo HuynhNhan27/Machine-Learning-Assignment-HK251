{
 "cells": [
  {
   "cell_type": "markdown",
   "id": "90fa868b",
   "metadata": {
    "id": "90fa868b"
   },
   "source": [
    "<h1 style=\"font-size:2.8em; color:#1976d2; font-weight:bold\">BÀI TẬP PHÂN LOẠI LOẠI THẢM THỰC VẬT DỰA TRÊN TẬP DỮ LIỆU FOREST COVER TYPE</h1>"
   ]
  },
  {
   "cell_type": "markdown",
   "id": "b218fdda",
   "metadata": {
    "id": "b218fdda"
   },
   "source": [
    "# **📘 GIỚI THIỆU BÀI TOÁN**\n",
    "\n",
    "***BÀI TẬP 1: HỌC MÁY VỚI DỮ LIỆU DẠNG BẢNG (TABULAR DATA)***\n",
    "\n",
    "* **Giảng viên hướng dẫn**  \n",
    "  * **Giảng viên: TS.Lê Thành Sách**\n",
    "\n",
    "* **Nhóm MNTV:**\n",
    "  * Tên.........................\n",
    "\n",
    "* **Giới thiệu bài toán**\n",
    "  * Xây dựng pipeline học máy truyền thống cho dữ liệu dạng bảng, ở đây nhóm sử dụng bộ dữ liệu Amazon Products Sales Dataset 42K+ Items - 2025. \n",
    "\n",
    "  * Mục tiêu của các mô hình là dự đoán và đề xuất giá hàng giảm giá cho các sản phẩm có trong bộ dữ liệu.\n",
    "\n",
    "  * Amazon Products Sales Dataset 42K+ Items - 2025 chứa thông tin về 42,000 sản phẩm điện tử được bày bán trên Amazon, bao gồm tên, loại hàng, giá cả, lượng mua, đánh giá của người mua....\n",
    "\n",
    "  * Thông tin về bộ dữ liệu:\n",
    "    * Tổng số mẫu: 42,675 mẫu.\n",
    "    * Số feature: 17.\n",
    "    * Format dữ liệu: Numeric và categorical.\n",
    "    * Link dataset: [Kaggle - Amazon Products Sales](https://www.kaggle.com/datasets/ikramshah512/amazon-products-sales-dataset-42k-items-2025/data?select=amazon_products_sales_data_cleaned.csv)\n",
    "\n",
    "*  **Mục tiêu của bài toán**\n",
    "    * ***Xây dựng pipeline hoàn chỉnh***: từ việc tải dữ liệu, xử lý, phân tích (EDA), huấn luyện đến đánh giá mô hình.\n",
    "    * ***So sánh nhiều mô hình phân loại***: Từ các mô hình đơn giản như Linear Regression, Decision Tree, Random Forest đến các mô hình phức tạp hơn như SVM, MLP.\n",
    "    * ***Phân tích chi tiết***: Đánh giá thông qua các chỉ số đánh giá mô hình như MSE, MAE, RMSE, R2 và phân tích kết quả.\n",
    "\n",
    "* **Các mô hình sẽ được triển khai:**\n",
    "    * 1. ***Linear Regression***\n",
    "    * 2. ***Random Forest***\n",
    "    * 3. ***SVM***\n",
    "    * 4. ***MLP***\n",
    "\n",
    "****"
   ]
  },
  {
   "cell_type": "markdown",
   "id": "be4fc669",
   "metadata": {
    "id": "be4fc669"
   },
   "source": [
    "# **📌 Cài đặt & import các thư viện**"
   ]
  },
  {
   "cell_type": "code",
   "execution_count": 22,
   "id": "5ec5eda2",
   "metadata": {
    "id": "5ec5eda2"
   },
   "outputs": [],
   "source": [
    "import numpy as np\n",
    "import pandas as pd\n",
    "import matplotlib.pyplot as plt\n",
    "import plotly.express as px\n",
    "import seaborn as sns\n",
    "from sklearn.model_selection import train_test_split\n",
    "from sklearn.preprocessing import StandardScaler, MinMaxScaler, RobustScaler\n",
    "from sklearn.linear_model import LinearRegression\n",
    "from sklearn.ensemble import RandomForestRegressor\n",
    "from sklearn.neural_network import MLPRegressor\n",
    "from sklearn.svm import SVR\n",
    "from sklearn.metrics import mean_squared_error, root_mean_squared_error, mean_absolute_error, r2_score\n",
    "import warnings\n",
    "warnings.filterwarnings('ignore')\n",
    "# Thiết lập style cho matplotlib\n",
    "plt.style.use('seaborn-v0_8')\n",
    "sns.set_palette(\"husl\")"
   ]
  },
  {
   "cell_type": "markdown",
   "id": "d3c495b1",
   "metadata": {
    "id": "d3c495b1"
   },
   "source": [
    "# **📥 Tải và kiểm tra dữ liệu**"
   ]
  },
  {
   "cell_type": "markdown",
   "id": "28d5647c",
   "metadata": {
    "id": "28d5647c"
   },
   "source": [
    "## *Tải dữ liệu*"
   ]
  },
  {
   "cell_type": "code",
   "execution_count": 23,
   "id": "39bd0800",
   "metadata": {},
   "outputs": [
    {
     "name": "stdout",
     "output_type": "stream",
     "text": [
      "Warning: Looks like you're using an outdated `kagglehub` version, please consider updating (latest version: 0.3.13)\n",
      "Path to dataset files: /home/nhan/.cache/kagglehub/datasets/ikramshah512/amazon-products-sales-dataset-42k-items-2025/versions/1\n"
     ]
    }
   ],
   "source": [
    "import kagglehub\n",
    "\n",
    "path = kagglehub.dataset_download(\"ikramshah512/amazon-products-sales-dataset-42k-items-2025\")\n",
    "\n",
    "print(\"Path to dataset files:\", path)"
   ]
  },
  {
   "cell_type": "code",
   "execution_count": 24,
   "id": "2af12c6a",
   "metadata": {},
   "outputs": [
    {
     "data": {
      "text/html": [
       "<div>\n",
       "<style scoped>\n",
       "    .dataframe tbody tr th:only-of-type {\n",
       "        vertical-align: middle;\n",
       "    }\n",
       "\n",
       "    .dataframe tbody tr th {\n",
       "        vertical-align: top;\n",
       "    }\n",
       "\n",
       "    .dataframe thead th {\n",
       "        text-align: right;\n",
       "    }\n",
       "</style>\n",
       "<table border=\"1\" class=\"dataframe\">\n",
       "  <thead>\n",
       "    <tr style=\"text-align: right;\">\n",
       "      <th></th>\n",
       "      <th>product_title</th>\n",
       "      <th>product_rating</th>\n",
       "      <th>total_reviews</th>\n",
       "      <th>purchased_last_month</th>\n",
       "      <th>discounted_price</th>\n",
       "      <th>original_price</th>\n",
       "      <th>is_best_seller</th>\n",
       "      <th>is_sponsored</th>\n",
       "      <th>has_coupon</th>\n",
       "      <th>buy_box_availability</th>\n",
       "      <th>delivery_date</th>\n",
       "      <th>sustainability_tags</th>\n",
       "      <th>product_image_url</th>\n",
       "      <th>product_page_url</th>\n",
       "      <th>data_collected_at</th>\n",
       "      <th>product_category</th>\n",
       "      <th>discount_percentage</th>\n",
       "    </tr>\n",
       "  </thead>\n",
       "  <tbody>\n",
       "    <tr>\n",
       "      <th>0</th>\n",
       "      <td>BOYA BOYALINK 2 Wireless Lavalier Microphone f...</td>\n",
       "      <td>4.6</td>\n",
       "      <td>375.0</td>\n",
       "      <td>300.0</td>\n",
       "      <td>89.68</td>\n",
       "      <td>159.00</td>\n",
       "      <td>No Badge</td>\n",
       "      <td>Sponsored</td>\n",
       "      <td>Save 15%  with coupon</td>\n",
       "      <td>Add to cart</td>\n",
       "      <td>2025-09-01</td>\n",
       "      <td>Carbon impact</td>\n",
       "      <td>https://m.media-amazon.com/images/I/71pAqiVEs3...</td>\n",
       "      <td>https://www.amazon.com/sspa/click?ie=UTF8&amp;spc=...</td>\n",
       "      <td>2025-08-21 11:14:29</td>\n",
       "      <td>Phones</td>\n",
       "      <td>43.60</td>\n",
       "    </tr>\n",
       "    <tr>\n",
       "      <th>1</th>\n",
       "      <td>LISEN USB C to Lightning Cable, 240W 4 in 1 Ch...</td>\n",
       "      <td>4.3</td>\n",
       "      <td>2457.0</td>\n",
       "      <td>6000.0</td>\n",
       "      <td>9.99</td>\n",
       "      <td>15.99</td>\n",
       "      <td>No Badge</td>\n",
       "      <td>Sponsored</td>\n",
       "      <td>No Coupon</td>\n",
       "      <td>Add to cart</td>\n",
       "      <td>2025-08-29</td>\n",
       "      <td>NaN</td>\n",
       "      <td>https://m.media-amazon.com/images/I/61nbF6aVIP...</td>\n",
       "      <td>https://www.amazon.com/sspa/click?ie=UTF8&amp;spc=...</td>\n",
       "      <td>2025-08-21 11:14:29</td>\n",
       "      <td>Laptops</td>\n",
       "      <td>37.52</td>\n",
       "    </tr>\n",
       "    <tr>\n",
       "      <th>2</th>\n",
       "      <td>DJI Mic 2 (2 TX + 1 RX + Charging Case), Wirel...</td>\n",
       "      <td>4.6</td>\n",
       "      <td>3044.0</td>\n",
       "      <td>2000.0</td>\n",
       "      <td>314.00</td>\n",
       "      <td>349.00</td>\n",
       "      <td>No Badge</td>\n",
       "      <td>Sponsored</td>\n",
       "      <td>No Coupon</td>\n",
       "      <td>Add to cart</td>\n",
       "      <td>2025-09-01</td>\n",
       "      <td>NaN</td>\n",
       "      <td>https://m.media-amazon.com/images/I/61h78MEXoj...</td>\n",
       "      <td>https://www.amazon.com/sspa/click?ie=UTF8&amp;spc=...</td>\n",
       "      <td>2025-08-21 11:14:29</td>\n",
       "      <td>Laptops</td>\n",
       "      <td>10.03</td>\n",
       "    </tr>\n",
       "    <tr>\n",
       "      <th>3</th>\n",
       "      <td>Apple AirPods Pro 2 Wireless Earbuds, Active N...</td>\n",
       "      <td>4.6</td>\n",
       "      <td>35882.0</td>\n",
       "      <td>10000.0</td>\n",
       "      <td>162.24</td>\n",
       "      <td>162.24</td>\n",
       "      <td>Best Seller</td>\n",
       "      <td>Organic</td>\n",
       "      <td>No Coupon</td>\n",
       "      <td>NaN</td>\n",
       "      <td>NaN</td>\n",
       "      <td>NaN</td>\n",
       "      <td>https://m.media-amazon.com/images/I/61SUj2aKoE...</td>\n",
       "      <td>https://www.amazon.com/Apple-Cancellation-Tran...</td>\n",
       "      <td>2025-08-21 11:14:29</td>\n",
       "      <td>Phones</td>\n",
       "      <td>0.00</td>\n",
       "    </tr>\n",
       "    <tr>\n",
       "      <th>4</th>\n",
       "      <td>Apple AirTag 4 Pack. Keep Track of and find Yo...</td>\n",
       "      <td>4.8</td>\n",
       "      <td>28988.0</td>\n",
       "      <td>10000.0</td>\n",
       "      <td>72.74</td>\n",
       "      <td>72.74</td>\n",
       "      <td>No Badge</td>\n",
       "      <td>Organic</td>\n",
       "      <td>No Coupon</td>\n",
       "      <td>NaN</td>\n",
       "      <td>NaN</td>\n",
       "      <td>NaN</td>\n",
       "      <td>https://m.media-amazon.com/images/I/61bMNCeAUA...</td>\n",
       "      <td>https://www.amazon.com/Apple-MX542LL-A-AirTag-...</td>\n",
       "      <td>2025-08-21 11:14:29</td>\n",
       "      <td>Phones</td>\n",
       "      <td>0.00</td>\n",
       "    </tr>\n",
       "  </tbody>\n",
       "</table>\n",
       "</div>"
      ],
      "text/plain": [
       "                                       product_title  product_rating  \\\n",
       "0  BOYA BOYALINK 2 Wireless Lavalier Microphone f...             4.6   \n",
       "1  LISEN USB C to Lightning Cable, 240W 4 in 1 Ch...             4.3   \n",
       "2  DJI Mic 2 (2 TX + 1 RX + Charging Case), Wirel...             4.6   \n",
       "3  Apple AirPods Pro 2 Wireless Earbuds, Active N...             4.6   \n",
       "4  Apple AirTag 4 Pack. Keep Track of and find Yo...             4.8   \n",
       "\n",
       "   total_reviews  purchased_last_month  discounted_price  original_price  \\\n",
       "0          375.0                 300.0             89.68          159.00   \n",
       "1         2457.0                6000.0              9.99           15.99   \n",
       "2         3044.0                2000.0            314.00          349.00   \n",
       "3        35882.0               10000.0            162.24          162.24   \n",
       "4        28988.0               10000.0             72.74           72.74   \n",
       "\n",
       "  is_best_seller is_sponsored             has_coupon buy_box_availability  \\\n",
       "0       No Badge    Sponsored  Save 15%  with coupon          Add to cart   \n",
       "1       No Badge    Sponsored              No Coupon          Add to cart   \n",
       "2       No Badge    Sponsored              No Coupon          Add to cart   \n",
       "3    Best Seller      Organic              No Coupon                  NaN   \n",
       "4       No Badge      Organic              No Coupon                  NaN   \n",
       "\n",
       "  delivery_date sustainability_tags  \\\n",
       "0    2025-09-01       Carbon impact   \n",
       "1    2025-08-29                 NaN   \n",
       "2    2025-09-01                 NaN   \n",
       "3           NaN                 NaN   \n",
       "4           NaN                 NaN   \n",
       "\n",
       "                                   product_image_url  \\\n",
       "0  https://m.media-amazon.com/images/I/71pAqiVEs3...   \n",
       "1  https://m.media-amazon.com/images/I/61nbF6aVIP...   \n",
       "2  https://m.media-amazon.com/images/I/61h78MEXoj...   \n",
       "3  https://m.media-amazon.com/images/I/61SUj2aKoE...   \n",
       "4  https://m.media-amazon.com/images/I/61bMNCeAUA...   \n",
       "\n",
       "                                    product_page_url    data_collected_at  \\\n",
       "0  https://www.amazon.com/sspa/click?ie=UTF8&spc=...  2025-08-21 11:14:29   \n",
       "1  https://www.amazon.com/sspa/click?ie=UTF8&spc=...  2025-08-21 11:14:29   \n",
       "2  https://www.amazon.com/sspa/click?ie=UTF8&spc=...  2025-08-21 11:14:29   \n",
       "3  https://www.amazon.com/Apple-Cancellation-Tran...  2025-08-21 11:14:29   \n",
       "4  https://www.amazon.com/Apple-MX542LL-A-AirTag-...  2025-08-21 11:14:29   \n",
       "\n",
       "  product_category  discount_percentage  \n",
       "0           Phones                43.60  \n",
       "1          Laptops                37.52  \n",
       "2          Laptops                10.03  \n",
       "3           Phones                 0.00  \n",
       "4           Phones                 0.00  "
      ]
     },
     "execution_count": 24,
     "metadata": {},
     "output_type": "execute_result"
    }
   ],
   "source": [
    "import os\n",
    "df = pd.read_csv(os.path.join(path, \"amazon_products_sales_data_cleaned.csv\"))\n",
    "df.head()"
   ]
  },
  {
   "cell_type": "markdown",
   "id": "b7987a5f",
   "metadata": {},
   "source": [
    "# **📊 EDA - Khám phá dữ liệu**"
   ]
  },
  {
   "cell_type": "markdown",
   "id": "bfae5edf",
   "metadata": {},
   "source": [
    "## *Thông số bộ dữ liệu*"
   ]
  },
  {
   "cell_type": "code",
   "execution_count": 25,
   "id": "3a5edceb",
   "metadata": {},
   "outputs": [
    {
     "name": "stdout",
     "output_type": "stream",
     "text": [
      "\n",
      "Dataset Info:\n",
      "Total samples: 42,675\n",
      "Features: 17\n",
      "Data Shape: (42675, 17)\n",
      "Columns: Index(['product_title', 'product_rating', 'total_reviews',\n",
      "       'purchased_last_month', 'discounted_price', 'original_price',\n",
      "       'is_best_seller', 'is_sponsored', 'has_coupon', 'buy_box_availability',\n",
      "       'delivery_date', 'sustainability_tags', 'product_image_url',\n",
      "       'product_page_url', 'data_collected_at', 'product_category',\n",
      "       'discount_percentage'],\n",
      "      dtype='object')\n"
     ]
    }
   ],
   "source": [
    "print(\"\\nDataset Info:\")\n",
    "print(f\"Total samples: {len(df):,}\")\n",
    "print(f\"Features: {df.shape[1]}\")\n",
    "print(f\"Data Shape: {df.shape}\")\n",
    "print(f\"Columns: {df.columns}\")"
   ]
  },
  {
   "cell_type": "code",
   "execution_count": 26,
   "id": "e1193bb1",
   "metadata": {},
   "outputs": [
    {
     "name": "stdout",
     "output_type": "stream",
     "text": [
      "Dtypes:\n",
      "product_title            object\n",
      "product_rating          float64\n",
      "total_reviews           float64\n",
      "purchased_last_month    float64\n",
      "discounted_price        float64\n",
      "original_price          float64\n",
      "is_best_seller           object\n",
      "is_sponsored             object\n",
      "has_coupon               object\n",
      "buy_box_availability     object\n",
      "delivery_date            object\n",
      "sustainability_tags      object\n",
      "product_image_url        object\n",
      "product_page_url         object\n",
      "data_collected_at        object\n",
      "product_category         object\n",
      "discount_percentage     float64\n",
      "dtype: object\n"
     ]
    }
   ],
   "source": [
    "print(\"Dtypes:\")\n",
    "print(df.dtypes)"
   ]
  },
  {
   "cell_type": "code",
   "execution_count": 27,
   "id": "c4fa6566",
   "metadata": {},
   "outputs": [
    {
     "name": "stdout",
     "output_type": "stream",
     "text": [
      "Missing Value:\n",
      "                       missing  percent\n",
      "sustainability_tags     39267    92.01\n",
      "buy_box_availability    14653    34.34\n",
      "delivery_date           11983    28.08\n",
      "purchased_last_month    10511    24.63\n",
      "product_page_url         2069     4.85\n",
      "original_price           2062     4.83\n",
      "discounted_price         2062     4.83\n",
      "discount_percentage      2062     4.83\n",
      "total_reviews            1024     2.40\n",
      "product_rating           1024     2.40\n",
      "product_title               0     0.00\n",
      "is_best_seller              0     0.00\n",
      "is_sponsored                0     0.00\n",
      "has_coupon                  0     0.00\n",
      "product_image_url           0     0.00\n",
      "data_collected_at           0     0.00\n",
      "product_category            0     0.00\n"
     ]
    }
   ],
   "source": [
    "def missing_report(df: pd.DataFrame) -> pd.DataFrame:\n",
    "    missing_df = df.isna().sum().sort_values(ascending=False)\n",
    "    return pd.DataFrame({\"missing\" : missing_df, \"percent\" : (missing_df / len(df) * 100).round(2)})\n",
    "\n",
    "print(\"Missing Value:\\n\", missing_report(df))"
   ]
  },
  {
   "cell_type": "code",
   "execution_count": 28,
   "id": "8d55d74b",
   "metadata": {},
   "outputs": [
    {
     "name": "stdout",
     "output_type": "stream",
     "text": [
      "product_title            8808\n",
      "product_rating             31\n",
      "total_reviews            4413\n",
      "purchased_last_month       29\n",
      "discounted_price         3558\n",
      "original_price           3151\n",
      "is_best_seller             12\n",
      "is_sponsored                2\n",
      "has_coupon                 42\n",
      "buy_box_availability        1\n",
      "delivery_date              24\n",
      "sustainability_tags        16\n",
      "product_image_url        8038\n",
      "product_page_url        40606\n",
      "data_collected_at        1559\n",
      "product_category           15\n",
      "discount_percentage      1526\n",
      "dtype: int64\n"
     ]
    }
   ],
   "source": [
    "print(df.nunique())"
   ]
  },
  {
   "cell_type": "markdown",
   "id": "fc02dcdd",
   "metadata": {},
   "source": [
    "## *Thống kê mô tả với biến numeric*"
   ]
  },
  {
   "cell_type": "code",
   "execution_count": 29,
   "id": "bd79b1d1",
   "metadata": {},
   "outputs": [
    {
     "name": "stdout",
     "output_type": "stream",
     "text": [
      "       product_rating  total_reviews  purchased_last_month  discounted_price  \\\n",
      "count    41651.000000   41651.000000          32164.000000      40613.000000   \n",
      "mean         4.399431    3087.106000           1293.665278        243.227289   \n",
      "std          0.386997   13030.460133           6318.323574        473.351545   \n",
      "min          1.000000       1.000000             50.000000          2.160000   \n",
      "25%          4.200000      82.000000            100.000000         29.690000   \n",
      "50%          4.500000     343.000000            200.000000         84.990000   \n",
      "75%          4.700000    1886.000000            400.000000        224.000000   \n",
      "max          5.000000  865598.000000         100000.000000       5449.000000   \n",
      "\n",
      "       original_price  discount_percentage  \n",
      "count    40613.000000         40613.000000  \n",
      "mean       257.611107             6.547151  \n",
      "std        496.633495            12.744715  \n",
      "min          2.160000             0.000000  \n",
      "25%         32.990000             0.000000  \n",
      "50%         89.000000             0.000000  \n",
      "75%        229.990000             8.490000  \n",
      "max       5449.000000            85.420000  \n"
     ]
    }
   ],
   "source": [
    "numeric_feature = [\"product_rating\", \"total_reviews\", \"purchased_last_month\", \"discounted_price\",\n",
    "                    \"original_price\", \"discount_percentage\"]\n",
    "print(df.describe(include=[np.float64]))"
   ]
  },
  {
   "cell_type": "code",
   "execution_count": 30,
   "id": "c7210216",
   "metadata": {},
   "outputs": [
    {
     "data": {
      "image/png": "[encoded data removed]",
      "text/plain": [
       "<Figure size 1500x1000 with 6 Axes>"
      ]
     },
     "metadata": {},
     "output_type": "display_data"
    }
   ],
   "source": [
    "fig, axes = plt.subplots(2, 3, figsize=(15, 10))\n",
    "for i, col in enumerate(numeric_feature):\n",
    "    row, col_idx = i // 3, i % 3\n",
    "    clean_data = df[col].dropna()\n",
    "    axes[row, col_idx].hist(clean_data, bins=30)\n",
    "    axes[row, col_idx].set_title(f'Distribution of {col}')\n",
    "    axes[row, col_idx].set_xlabel(col)\n",
    "\n",
    "plt.tight_layout()\n",
    "plt.show()"
   ]
  },
  {
   "cell_type": "code",
   "execution_count": 31,
   "id": "8433992c",
   "metadata": {},
   "outputs": [
    {
     "data": {
      "image/png": "[encoded data removed]",
      "text/plain": [
       "<Figure size 1500x1000 with 6 Axes>"
      ]
     },
     "metadata": {},
     "output_type": "display_data"
    }
   ],
   "source": [
    "fig, axes = plt.subplots(2, 3, figsize=(15, 10))\n",
    "for i, col in enumerate(numeric_feature):\n",
    "    row, col_idx = i // 3, i % 3\n",
    "    clean_data = df[col].dropna()\n",
    "    sns.boxplot(x=clean_data, ax=axes[row, col_idx])\n",
    "    axes[row, col_idx].set_title(f'Distribution of {col}')\n",
    "    axes[row, col_idx].set_xlabel(col)\n",
    "\n",
    "plt.tight_layout()\n",
    "plt.show()"
   ]
  },
  {
   "cell_type": "markdown",
   "id": "12a3d84c",
   "metadata": {},
   "source": [
    "## *Thống kê mô tả với biến phân loại*"
   ]
  },
  {
   "cell_type": "code",
   "execution_count": 32,
   "id": "2bc38746",
   "metadata": {},
   "outputs": [
    {
     "name": "stdout",
     "output_type": "stream",
     "text": [
      "================== Top 10 product_title ==================\n",
      "Unique value: 8808\n",
      "Missing value: 0\n"
     ]
    },
    {
     "data": {
      "text/plain": [
       "product_title\n",
       "Duracell Coppertop 9V Battery, 6 Count (Pack of 1), 9 Volt Battery with Long-lasting Power, All-Purpose Alkaline 9V Battery for Household and Office Devices                                     744\n",
       "Energizer MAX AA Batteries (16 Pack), Double A Alkaline Batteries                                                                                                                                566\n",
       "TRX Training 6 Month On-Demand Membership - Unlimited Access to Expert-Led Workouts, Personalized Programs, Strength, Cardio & Recovery - Train Anytime                                          456\n",
       "KODAK 10.1 Inch WiFi Digital Picture Frame,1280x800 HD IPS Touch Screen, Electronic Smart Photo Frame with 32 GB Memory, Auto-Rotate, Instantly Share Photos/Videos Anywhere                     438\n",
       "Belkin MagSafe-Compatible Charger, 3-in-1 Wireless Charging Station, Qi2-Certified 15W Wireless Charge for Apple iPhone 16 Series, Apple Watch, AirPods w/Non-Slip Base, 40W Included - Black    377\n",
       "RCA 10.1\" WiFi Digital Picture Frame Uhale App Photo Frames Electronic HD IPS Touch Screen Display with 32GB Memory LED Lights, Support USB/SD Card, Slideshow, Instantly Share Photos Videos    371\n",
       "Toshiba 20TB MG10ACA20TE SATA 600GB 20in1 HDD                                                                                                                                                    254\n",
       "Lenovo USI Stylus Pen, Chrome OS Support, 4,096 Levels of Pressure Sensitivity, 150 Days Battery Life, AAAA Battery, Works with Chromebook, GX81B10212,Grey                                      231\n",
       "G.SKILL Trident Z5 Neo RGB Series (AMD Expo) DDR5 RAM 64GB (2X 32GB) 6000MT/s CL26-36-36-96 1.45V Desktop Computer Memory U-DIMM - Black (F5-6000J2636H32GX2-TZ5NR)                              216\n",
       "Sanus Height Adjustable Speaker Stand for Sonos Era 300™ - 17\" Height Adjustment Sonos Stand Includes Carpet Spikes & Rubber Pads - Easy DIY Install Comes w/All Hardware - White                216\n",
       "Name: count, dtype: int64"
      ]
     },
     "metadata": {},
     "output_type": "display_data"
    },
    {
     "name": "stdout",
     "output_type": "stream",
     "text": [
      "================== Top 10 is_best_seller ==================\n",
      "Unique value: 12\n",
      "Missing value: 0\n"
     ]
    },
    {
     "data": {
      "text/plain": [
       "is_best_seller\n",
       "No Badge             40814\n",
       "Amazon's               744\n",
       "Limited time deal      409\n",
       "Best Seller            275\n",
       "Save 30%               125\n",
       "Ends in                 97\n",
       "Save 10%                61\n",
       "Save 18%                57\n",
       "Save 17%                51\n",
       "Save 12%                26\n",
       "Name: count, dtype: int64"
      ]
     },
     "metadata": {},
     "output_type": "display_data"
    },
    {
     "name": "stdout",
     "output_type": "stream",
     "text": [
      "================== Top 10 is_sponsored ==================\n",
      "Unique value: 2\n",
      "Missing value: 0\n"
     ]
    },
    {
     "data": {
      "text/plain": [
       "is_sponsored\n",
       "Organic      35664\n",
       "Sponsored     7011\n",
       "Name: count, dtype: int64"
      ]
     },
     "metadata": {},
     "output_type": "display_data"
    },
    {
     "name": "stdout",
     "output_type": "stream",
     "text": [
      "================== Top 10 has_coupon ==================\n",
      "Unique value: 42\n",
      "Missing value: 0\n"
     ]
    },
    {
     "data": {
      "text/plain": [
       "has_coupon\n",
       "No Coupon                    40727\n",
       "Save $16.00  with coupon       438\n",
       "Save 15%  with coupon          398\n",
       "Save 10%  with coupon          218\n",
       "Save 5%  with coupon           191\n",
       "Save 50%  with coupon          123\n",
       "Save $11.00  with coupon       120\n",
       "Save $100.00  with coupon       97\n",
       "Save 40%  with coupon           96\n",
       "Save $25.00  with coupon        65\n",
       "Name: count, dtype: int64"
      ]
     },
     "metadata": {},
     "output_type": "display_data"
    },
    {
     "name": "stdout",
     "output_type": "stream",
     "text": [
      "================== Top 10 buy_box_availability ==================\n",
      "Unique value: 1\n",
      "Missing value: 14653\n"
     ]
    },
    {
     "data": {
      "text/plain": [
       "buy_box_availability\n",
       "Add to cart    28022\n",
       "Name: count, dtype: int64"
      ]
     },
     "metadata": {},
     "output_type": "display_data"
    },
    {
     "name": "stdout",
     "output_type": "stream",
     "text": [
      "================== Top 10 delivery_date ==================\n",
      "Unique value: 24\n",
      "Missing value: 11983\n"
     ]
    },
    {
     "data": {
      "text/plain": [
       "delivery_date\n",
       "2025-09-04    7862\n",
       "2025-09-01    6334\n",
       "2025-09-03    5238\n",
       "2025-09-11    3723\n",
       "2025-09-02    3401\n",
       "2025-09-09    1511\n",
       "2025-09-05    1001\n",
       "2025-09-08     763\n",
       "2025-08-30     192\n",
       "2025-09-13     127\n",
       "Name: count, dtype: int64"
      ]
     },
     "metadata": {},
     "output_type": "display_data"
    },
    {
     "name": "stdout",
     "output_type": "stream",
     "text": [
      "================== Top 10 sustainability_tags ==================\n",
      "Unique value: 16\n",
      "Missing value: 39267\n"
     ]
    },
    {
     "data": {
      "text/plain": [
       "sustainability_tags\n",
       "Small Business               1341\n",
       "Carbon impact                 769\n",
       "Works with Alexa              425\n",
       "Energy efficiency             262\n",
       "Alexa Built-in                184\n",
       "Manufacturing practices       148\n",
       "Energy efficiency +3 more     121\n",
       "Energy efficiency +1 more      93\n",
       "Forestry practices             18\n",
       "Safer chemicals +2 more        18\n",
       "Name: count, dtype: int64"
      ]
     },
     "metadata": {},
     "output_type": "display_data"
    },
    {
     "name": "stdout",
     "output_type": "stream",
     "text": [
      "================== Top 10 product_image_url ==================\n",
      "Unique value: 8038\n",
      "Missing value: 0\n"
     ]
    },
    {
     "data": {
      "text/plain": [
       "product_image_url\n",
       "https://m.media-amazon.com/images/I/51Xr76m2WLL._AC_UL320_.jpg    1461\n",
       "https://m.media-amazon.com/images/I/41xG8Yh0rlL._AC_UL320_.jpg    1078\n",
       "https://m.media-amazon.com/images/I/61ZSfHGJ2bL._AC_UL320_.jpg     744\n",
       "https://m.media-amazon.com/images/I/91wM+1e9MSL._AC_UL320_.jpg     566\n",
       "https://m.media-amazon.com/images/I/5179luWipKL._AC_UL320_.jpg     515\n",
       "https://m.media-amazon.com/images/I/51rlsc7G2UL._AC_UL320_.jpg     456\n",
       "https://m.media-amazon.com/images/I/716bPrNJ0GL._AC_UL320_.jpg     438\n",
       "https://m.media-amazon.com/images/I/61XBmb46FVL._AC_UL320_.jpg     377\n",
       "https://m.media-amazon.com/images/I/71yebnw2SUL._AC_UL320_.jpg     371\n",
       "https://m.media-amazon.com/images/I/71+ok4zsAxL._AC_UL320_.jpg     254\n",
       "Name: count, dtype: int64"
      ]
     },
     "metadata": {},
     "output_type": "display_data"
    },
    {
     "name": "stdout",
     "output_type": "stream",
     "text": [
      "================== Top 10 product_page_url ==================\n",
      "Unique value: 40606\n",
      "Missing value: 2069\n"
     ]
    },
    {
     "data": {
      "text/plain": [
       "product_page_url\n",
       "https://www.amazon.com/sspa/click?ie=UTF8&spc=MTo4NzEzNDY2NTQ5NDYxNDQ2OjE3NTU4MDAwNjg6c3BfYXRmX2Jyb3dzZTozMDA2NzE0NTMwMTcyMDI6OjA6Og&url=%2FBOYA-BOYALINK-Microphone-Micophone-Cancelling%2Fdp%2FB0DNZB7TQG%2Fref%3Dsr_1_1_sspa%3Fdib%3DeyJ2IjoiMSJ9.avmZlHCQuVOwikquBqYSIjN8SVcyxtkXHQMPt7Zjzkf4TeZzrZfQETMhdWuWgtTrVz8ITKpXLHvZj0fZRjxqgMPYNMitRqeUoeIwdYfc5nnzJ8m0T8HYeedlh3YSOhJQjeHskevMUQWyg6TtoB2tHcHt-edYPsQ6VwFQTI6avsPrgVpFKrto3ff9TDR9BcRyPwM6AiYn-vh7wA5PP9DjZddhCPf7bVPcHMZ6Hwd40dQDWm9_M8R-LcwKY8wnuWRUSplhfYJBvTjAgsb3Y3y88VGpfqY3V8Rd2ge-woBzUMA.yqwi-krmElGgXIMa8kKUPx1XmaXd9lHaAkMkVVpStxo%26dib_tag%3Dse%26qid%3D1755800068%26refinements%3Dp_n_g-101014971069111%253A119653281011%26s%3Delectronics%26sr%3D1-1-spons%26sp_csd%3Dd2lkZ2V0TmFtZT1zcF9hdGZfYnJvd3Nl%26psc%3D1      1\n",
       "https://www.amazon.com/sspa/click?ie=UTF8&spc=MTo4NzEzNDY2NTQ5NDYxNDQ2OjE3NTU4MDAwNjg6c3BfYXRmX2Jyb3dzZTozMDA4NjA2Mzc2NDIxMDI6OjA6Og&url=%2FLISEN-Charging-Lighting-MacBook-Chargers%2Fdp%2FB0DHWZCZDZ%2Fref%3Dsr_1_2_sspa%3Fdib%3DeyJ2IjoiMSJ9.avmZlHCQuVOwikquBqYSIjN8SVcyxtkXHQMPt7Zjzkf4TeZzrZfQETMhdWuWgtTrVz8ITKpXLHvZj0fZRjxqgMPYNMitRqeUoeIwdYfc5nnzJ8m0T8HYeedlh3YSOhJQjeHskevMUQWyg6TtoB2tHcHt-edYPsQ6VwFQTI6avsPrgVpFKrto3ff9TDR9BcRyPwM6AiYn-vh7wA5PP9DjZddhCPf7bVPcHMZ6Hwd40dQDWm9_M8R-LcwKY8wnuWRUSplhfYJBvTjAgsb3Y3y88VGpfqY3V8Rd2ge-woBzUMA.yqwi-krmElGgXIMa8kKUPx1XmaXd9lHaAkMkVVpStxo%26dib_tag%3Dse%26qid%3D1755800068%26refinements%3Dp_n_g-101014971069111%253A119653281011%26s%3Delectronics%26sr%3D1-2-spons%26sp_csd%3Dd2lkZ2V0TmFtZT1zcF9hdGZfYnJvd3Nl%26psc%3D1           1\n",
       "https://www.amazon.com/sspa/click?ie=UTF8&spc=MTo4NzEzNDY2NTQ5NDYxNDQ2OjE3NTU4MDAwNjg6c3BfYXRmX2Jyb3dzZTozMDA4Nzk0NzAxMTk3MDI6OjA6Og&url=%2FDJI-Microphone-Intelligent-Cancelling-Recording%2Fdp%2FB0CFZX734J%2Fref%3Dsr_1_3_sspa%3Fdib%3DeyJ2IjoiMSJ9.avmZlHCQuVOwikquBqYSIjN8SVcyxtkXHQMPt7Zjzkf4TeZzrZfQETMhdWuWgtTrVz8ITKpXLHvZj0fZRjxqgMPYNMitRqeUoeIwdYfc5nnzJ8m0T8HYeedlh3YSOhJQjeHskevMUQWyg6TtoB2tHcHt-edYPsQ6VwFQTI6avsPrgVpFKrto3ff9TDR9BcRyPwM6AiYn-vh7wA5PP9DjZddhCPf7bVPcHMZ6Hwd40dQDWm9_M8R-LcwKY8wnuWRUSplhfYJBvTjAgsb3Y3y88VGpfqY3V8Rd2ge-woBzUMA.yqwi-krmElGgXIMa8kKUPx1XmaXd9lHaAkMkVVpStxo%26dib_tag%3Dse%26qid%3D1755800068%26refinements%3Dp_n_g-101014971069111%253A119653281011%26s%3Delectronics%26sr%3D1-3-spons%26sp_csd%3Dd2lkZ2V0TmFtZT1zcF9hdGZfYnJvd3Nl%26psc%3D1    1\n",
       "https://www.amazon.com/Apple-Cancellation-Transparency-Personalized-High-Fidelity/dp/B0D1XD1ZV3/ref=sr_1_4?dib=eyJ2IjoiMSJ9.avmZlHCQuVOwikquBqYSIjN8SVcyxtkXHQMPt7Zjzkf4TeZzrZfQETMhdWuWgtTrVz8ITKpXLHvZj0fZRjxqgMPYNMitRqeUoeIwdYfc5nnzJ8m0T8HYeedlh3YSOhJQjeHskevMUQWyg6TtoB2tHcHt-edYPsQ6VwFQTI6avsPrgVpFKrto3ff9TDR9BcRyPwM6AiYn-vh7wA5PP9DjZddhCPf7bVPcHMZ6Hwd40dQDWm9_M8R-LcwKY8wnuWRUSplhfYJBvTjAgsb3Y3y88VGpfqY3V8Rd2ge-woBzUMA.yqwi-krmElGgXIMa8kKUPx1XmaXd9lHaAkMkVVpStxo&dib_tag=se&qid=1755800068&refinements=p_n_g-101014971069111%3A119653281011&s=electronics&sr=1-4                                                                                                                                                                                                                 1\n",
       "https://www.amazon.com/Apple-MX542LL-A-AirTag-Pack/dp/B0D54JZTHY/ref=sr_1_5?dib=eyJ2IjoiMSJ9.avmZlHCQuVOwikquBqYSIjN8SVcyxtkXHQMPt7Zjzkf4TeZzrZfQETMhdWuWgtTrVz8ITKpXLHvZj0fZRjxqgMPYNMitRqeUoeIwdYfc5nnzJ8m0T8HYeedlh3YSOhJQjeHskevMUQWyg6TtoB2tHcHt-edYPsQ6VwFQTI6avsPrgVpFKrto3ff9TDR9BcRyPwM6AiYn-vh7wA5PP9DjZddhCPf7bVPcHMZ6Hwd40dQDWm9_M8R-LcwKY8wnuWRUSplhfYJBvTjAgsb3Y3y88VGpfqY3V8Rd2ge-woBzUMA.yqwi-krmElGgXIMa8kKUPx1XmaXd9lHaAkMkVVpStxo&dib_tag=se&qid=1755800068&refinements=p_n_g-101014971069111%3A119653281011&s=electronics&sr=1-5                                                                                                                                                                                                                                                1\n",
       "https://www.amazon.com/Texas-Instruments-TI-84-Graphing-Calculator/dp/B00TFYYWQA/ref=sr_1_6?dib=eyJ2IjoiMSJ9.avmZlHCQuVOwikquBqYSIjN8SVcyxtkXHQMPt7Zjzkf4TeZzrZfQETMhdWuWgtTrVz8ITKpXLHvZj0fZRjxqgMPYNMitRqeUoeIwdYfc5nnzJ8m0T8HYeedlh3YSOhJQjeHskevMUQWyg6TtoB2tHcHt-edYPsQ6VwFQTI6avsPrgVpFKrto3ff9TDR9BcRyPwM6AiYn-vh7wA5PP9DjZddhCPf7bVPcHMZ6Hwd40dQDWm9_M8R-LcwKY8wnuWRUSplhfYJBvTjAgsb3Y3y88VGpfqY3V8Rd2ge-woBzUMA.yqwi-krmElGgXIMa8kKUPx1XmaXd9lHaAkMkVVpStxo&dib_tag=se&qid=1755800068&refinements=p_n_g-101014971069111%3A119653281011&s=electronics&sr=1-6                                                                                                                                                                                                                                1\n",
       "https://www.amazon.com/Apple-Bluetooth-Headphones-Personalized-Effortless/dp/B0DGHMNQ5Z/ref=sr_1_7?dib=eyJ2IjoiMSJ9.avmZlHCQuVOwikquBqYSIjN8SVcyxtkXHQMPt7Zjzkf4TeZzrZfQETMhdWuWgtTrVz8ITKpXLHvZj0fZRjxqgMPYNMitRqeUoeIwdYfc5nnzJ8m0T8HYeedlh3YSOhJQjeHskevMUQWyg6TtoB2tHcHt-edYPsQ6VwFQTI6avsPrgVpFKrto3ff9TDR9BcRyPwM6AiYn-vh7wA5PP9DjZddhCPf7bVPcHMZ6Hwd40dQDWm9_M8R-LcwKY8wnuWRUSplhfYJBvTjAgsb3Y3y88VGpfqY3V8Rd2ge-woBzUMA.yqwi-krmElGgXIMa8kKUPx1XmaXd9lHaAkMkVVpStxo&dib_tag=se&qid=1755800068&refinements=p_n_g-101014971069111%3A119653281011&s=electronics&sr=1-7                                                                                                                                                                                                                         1\n",
       "https://www.amazon.com/Apple-MX532LL-A-AirTag/dp/B0CWXNS552/ref=sr_1_8?dib=eyJ2IjoiMSJ9.avmZlHCQuVOwikquBqYSIjN8SVcyxtkXHQMPt7Zjzkf4TeZzrZfQETMhdWuWgtTrVz8ITKpXLHvZj0fZRjxqgMPYNMitRqeUoeIwdYfc5nnzJ8m0T8HYeedlh3YSOhJQjeHskevMUQWyg6TtoB2tHcHt-edYPsQ6VwFQTI6avsPrgVpFKrto3ff9TDR9BcRyPwM6AiYn-vh7wA5PP9DjZddhCPf7bVPcHMZ6Hwd40dQDWm9_M8R-LcwKY8wnuWRUSplhfYJBvTjAgsb3Y3y88VGpfqY3V8Rd2ge-woBzUMA.yqwi-krmElGgXIMa8kKUPx1XmaXd9lHaAkMkVVpStxo&dib_tag=se&qid=1755800068&refinements=p_n_g-101014971069111%3A119653281011&s=electronics&sr=1-8                                                                                                                                                                                                                                                     1\n",
       "https://www.amazon.com/Asurion-Complete-Protect/dp/B07RZ3LSHM/ref=sr_1_9?dib=eyJ2IjoiMSJ9.avmZlHCQuVOwikquBqYSIjN8SVcyxtkXHQMPt7Zjzkf4TeZzrZfQETMhdWuWgtTrVz8ITKpXLHvZj0fZRjxqgMPYNMitRqeUoeIwdYfc5nnzJ8m0T8HYeedlh3YSOhJQjeHskevMUQWyg6TtoB2tHcHt-edYPsQ6VwFQTI6avsPrgVpFKrto3ff9TDR9BcRyPwM6AiYn-vh7wA5PP9DjZddhCPf7bVPcHMZ6Hwd40dQDWm9_M8R-LcwKY8wnuWRUSplhfYJBvTjAgsb3Y3y88VGpfqY3V8Rd2ge-woBzUMA.yqwi-krmElGgXIMa8kKUPx1XmaXd9lHaAkMkVVpStxo&dib_tag=se&qid=1755800068&refinements=p_n_g-101014971069111%3A119653281011&s=electronics&sr=1-9                                                                                                                                                                                                                                                   1\n",
       "https://www.amazon.com/Apple-iPad-11-inch-Display-All-Day/dp/B0DZ75TN5F/ref=sr_1_10?dib=eyJ2IjoiMSJ9.avmZlHCQuVOwikquBqYSIjN8SVcyxtkXHQMPt7Zjzkf4TeZzrZfQETMhdWuWgtTrVz8ITKpXLHvZj0fZRjxqgMPYNMitRqeUoeIwdYfc5nnzJ8m0T8HYeedlh3YSOhJQjeHskevMUQWyg6TtoB2tHcHt-edYPsQ6VwFQTI6avsPrgVpFKrto3ff9TDR9BcRyPwM6AiYn-vh7wA5PP9DjZddhCPf7bVPcHMZ6Hwd40dQDWm9_M8R-LcwKY8wnuWRUSplhfYJBvTjAgsb3Y3y88VGpfqY3V8Rd2ge-woBzUMA.yqwi-krmElGgXIMa8kKUPx1XmaXd9lHaAkMkVVpStxo&dib_tag=se&qid=1755800068&refinements=p_n_g-101014971069111%3A119653281011&s=electronics&sr=1-10                                                                                                                                                                                                                                       1\n",
       "Name: count, dtype: int64"
      ]
     },
     "metadata": {},
     "output_type": "display_data"
    },
    {
     "name": "stdout",
     "output_type": "stream",
     "text": [
      "================== Top 10 data_collected_at ==================\n",
      "Unique value: 1559\n",
      "Missing value: 0\n"
     ]
    },
    {
     "data": {
      "text/plain": [
       "data_collected_at\n",
       "2025-08-21 11:15:31    33\n",
       "2025-08-21 11:15:58    33\n",
       "2025-08-21 11:14:29    33\n",
       "2025-08-21 11:16:09    33\n",
       "2025-08-30 19:53:37    33\n",
       "2025-08-30 19:54:27    33\n",
       "2025-08-30 19:54:52    33\n",
       "2025-08-30 00:39:26    33\n",
       "2025-08-30 00:39:40    33\n",
       "2025-08-30 00:40:06    33\n",
       "Name: count, dtype: int64"
      ]
     },
     "metadata": {},
     "output_type": "display_data"
    },
    {
     "name": "stdout",
     "output_type": "stream",
     "text": [
      "================== Top 10 product_category ==================\n",
      "Unique value: 15\n",
      "Missing value: 0\n"
     ]
    },
    {
     "data": {
      "text/plain": [
       "product_category\n",
       "Other Electronics    8755\n",
       "Laptops              8693\n",
       "Phones               6563\n",
       "Cameras              3677\n",
       "Power & Batteries    2877\n",
       "TV & Display         2630\n",
       "Chargers & Cables    1833\n",
       "Storage              1630\n",
       "Speakers             1345\n",
       "Networking           1070\n",
       "Name: count, dtype: int64"
      ]
     },
     "metadata": {},
     "output_type": "display_data"
    }
   ],
   "source": [
    "categorical_feature = [\"product_title\", \"is_best_seller\", \"is_sponsored\", \"has_coupon\", \"buy_box_availability\", \"delivery_date\", \n",
    "                       \"sustainability_tags\", \"product_image_url\", \"product_page_url\", \"data_collected_at\", \"product_category\"]\n",
    "\n",
    "for col in categorical_feature:\n",
    "    print(f\"================== Top 10 {col} ==================\")\n",
    "    print(\"Unique value:\", df[col].nunique())\n",
    "    print(\"Missing value:\", df[col].isna().sum())\n",
    "    display(df[col].value_counts().head(10))"
   ]
  },
  {
   "cell_type": "markdown",
   "id": "0671ee32",
   "metadata": {},
   "source": [
    "# **Tiền xử lý dữ liệu**"
   ]
  },
  {
   "cell_type": "markdown",
   "id": "f6bf5717",
   "metadata": {},
   "source": [
    "## *Loại bỏ NA và các cột không cần thiết*"
   ]
  },
  {
   "cell_type": "code",
   "execution_count": 33,
   "id": "7bbef599",
   "metadata": {},
   "outputs": [],
   "source": [
    "cols = [\"product_rating\", \"total_reviews\", \"purchased_last_month\", \"discounted_price\", \"original_price\", \"discount_percentage\", \n",
    "        \"is_sponsored\", \"product_category\"]\n",
    "\n",
    "data = df[cols].dropna()"
   ]
  },
  {
   "cell_type": "code",
   "execution_count": 34,
   "id": "170d068b",
   "metadata": {},
   "outputs": [
    {
     "name": "stdout",
     "output_type": "stream",
     "text": [
      "\n",
      "Dataset Info:\n",
      "Total samples: 30,228\n",
      "Features: 8\n",
      "Data Shape: (30228, 8)\n",
      "Columns: Index(['product_rating', 'total_reviews', 'purchased_last_month',\n",
      "       'discounted_price', 'original_price', 'discount_percentage',\n",
      "       'is_sponsored', 'product_category'],\n",
      "      dtype='object')\n",
      "    product_rating  total_reviews  purchased_last_month  discounted_price  \\\n",
      "0              4.6          375.0                 300.0             89.68   \n",
      "1              4.3         2457.0                6000.0              9.99   \n",
      "2              4.6         3044.0                2000.0            314.00   \n",
      "3              4.6        35882.0               10000.0            162.24   \n",
      "4              4.8        28988.0               10000.0             72.74   \n",
      "5              4.6        44522.0              100000.0             99.95   \n",
      "6              4.5        13466.0               10000.0             88.11   \n",
      "7              4.6        38105.0               10000.0             23.04   \n",
      "9              4.7         7308.0               10000.0            284.05   \n",
      "10             4.7       865598.0              100000.0             14.99   \n",
      "\n",
      "    original_price  discount_percentage is_sponsored   product_category  \n",
      "0           159.00                43.60    Sponsored             Phones  \n",
      "1            15.99                37.52    Sponsored            Laptops  \n",
      "2           349.00                10.03    Sponsored            Laptops  \n",
      "3           162.24                 0.00      Organic             Phones  \n",
      "4            72.74                 0.00      Organic             Phones  \n",
      "5            99.95                 0.00      Organic  Other Electronics  \n",
      "6            88.11                 0.00      Organic             Phones  \n",
      "7            23.04                 0.00      Organic             Phones  \n",
      "9           284.05                 0.00      Organic            Cameras  \n",
      "10           14.99                 0.00      Organic            Laptops  \n"
     ]
    }
   ],
   "source": [
    "print(\"\\nDataset Info:\")\n",
    "print(f\"Total samples: {len(data):,}\")\n",
    "print(f\"Features: {data.shape[1]}\")\n",
    "print(f\"Data Shape: {data.shape}\")\n",
    "print(f\"Columns: {data.columns}\")\n",
    "print(data.head(10))"
   ]
  },
  {
   "cell_type": "code",
   "execution_count": 35,
   "id": "a7dfe749",
   "metadata": {},
   "outputs": [],
   "source": [
    "target = \"discounted_price\"\n",
    "X = data.drop(columns=target)\n",
    "y = data[target]"
   ]
  },
  {
   "cell_type": "code",
   "execution_count": 36,
   "id": "2d3fc1fd",
   "metadata": {},
   "outputs": [
    {
     "name": "stdout",
     "output_type": "stream",
     "text": [
      "X_train data Shape: (24182, 7)\n",
      "X_test data Shape: (6046, 7)\n"
     ]
    }
   ],
   "source": [
    "X_train, X_test, y_train, y_test = train_test_split(X, y, test_size=0.2, random_state=42)\n",
    "\n",
    "print(f\"X_train data Shape: {X_train.shape}\")\n",
    "print(f\"X_test data Shape: {X_test.shape}\")"
   ]
  },
  {
   "cell_type": "markdown",
   "id": "6d957b69",
   "metadata": {},
   "source": [
    "## *Scale cho dữ liệu Numeric*"
   ]
  },
  {
   "cell_type": "code",
   "execution_count": 37,
   "id": "d633c10f",
   "metadata": {},
   "outputs": [],
   "source": [
    "minmax_scaler = MinMaxScaler()\n",
    "robust_scaler = RobustScaler()\n",
    "y_scaler = RobustScaler()"
   ]
  },
  {
   "cell_type": "code",
   "execution_count": 38,
   "id": "763bcb46",
   "metadata": {},
   "outputs": [],
   "source": [
    "cols_minmax = [\"product_rating\", \"discount_percentage\"]\n",
    "cols_log_robust = [\"total_reviews\", \"purchased_last_month\", \"original_price\"]\n",
    "\n",
    "X_train[cols_minmax] = minmax_scaler.fit_transform(X_train[cols_minmax])\n",
    "X_train[cols_log_robust] = robust_scaler.fit_transform(X_train[cols_log_robust])\n",
    "\n",
    "X_test[cols_minmax] = minmax_scaler.transform(X_test[cols_minmax])\n",
    "X_test[cols_log_robust] = robust_scaler.transform(X_test[cols_log_robust])\n",
    "\n",
    "y_train = y_scaler.fit_transform(y_train.values.reshape(-1, 1))"
   ]
  },
  {
   "cell_type": "markdown",
   "id": "77f32ea6",
   "metadata": {},
   "source": [
    "## *Encoding cho dữ liệu Categorical*"
   ]
  },
  {
   "cell_type": "code",
   "execution_count": 39,
   "id": "4a0028c7",
   "metadata": {},
   "outputs": [],
   "source": [
    "onehot_cols = [\"is_sponsored\", \"product_category\"]\n",
    "\n",
    "X_train = pd.get_dummies(X_train, onehot_cols)\n",
    "X_test = pd.get_dummies(X_test, onehot_cols)"
   ]
  },
  {
   "cell_type": "code",
   "execution_count": 40,
   "id": "b03732c4",
   "metadata": {},
   "outputs": [
    {
     "data": {
      "text/html": [
       "<div>\n",
       "<style scoped>\n",
       "    .dataframe tbody tr th:only-of-type {\n",
       "        vertical-align: middle;\n",
       "    }\n",
       "\n",
       "    .dataframe tbody tr th {\n",
       "        vertical-align: top;\n",
       "    }\n",
       "\n",
       "    .dataframe thead th {\n",
       "        text-align: right;\n",
       "    }\n",
       "</style>\n",
       "<table border=\"1\" class=\"dataframe\">\n",
       "  <thead>\n",
       "    <tr style=\"text-align: right;\">\n",
       "      <th></th>\n",
       "      <th>product_rating</th>\n",
       "      <th>total_reviews</th>\n",
       "      <th>purchased_last_month</th>\n",
       "      <th>original_price</th>\n",
       "      <th>discount_percentage</th>\n",
       "      <th>is_sponsored_Organic</th>\n",
       "      <th>is_sponsored_Sponsored</th>\n",
       "      <th>product_category_Cameras</th>\n",
       "      <th>product_category_Chargers &amp; Cables</th>\n",
       "      <th>product_category_Gaming</th>\n",
       "      <th>...</th>\n",
       "      <th>product_category_Networking</th>\n",
       "      <th>product_category_Other Electronics</th>\n",
       "      <th>product_category_Phones</th>\n",
       "      <th>product_category_Power &amp; Batteries</th>\n",
       "      <th>product_category_Printers &amp; Scanners</th>\n",
       "      <th>product_category_Smart Home</th>\n",
       "      <th>product_category_Speakers</th>\n",
       "      <th>product_category_Storage</th>\n",
       "      <th>product_category_TV &amp; Display</th>\n",
       "      <th>product_category_Wearables</th>\n",
       "    </tr>\n",
       "  </thead>\n",
       "  <tbody>\n",
       "    <tr>\n",
       "      <th>16916</th>\n",
       "      <td>0.766667</td>\n",
       "      <td>-0.122073</td>\n",
       "      <td>-0.333333</td>\n",
       "      <td>-0.076371</td>\n",
       "      <td>0.055139</td>\n",
       "      <td>True</td>\n",
       "      <td>False</td>\n",
       "      <td>True</td>\n",
       "      <td>False</td>\n",
       "      <td>False</td>\n",
       "      <td>...</td>\n",
       "      <td>False</td>\n",
       "      <td>False</td>\n",
       "      <td>False</td>\n",
       "      <td>False</td>\n",
       "      <td>False</td>\n",
       "      <td>False</td>\n",
       "      <td>False</td>\n",
       "      <td>False</td>\n",
       "      <td>False</td>\n",
       "      <td>False</td>\n",
       "    </tr>\n",
       "    <tr>\n",
       "      <th>9654</th>\n",
       "      <td>0.800000</td>\n",
       "      <td>0.184110</td>\n",
       "      <td>0.333333</td>\n",
       "      <td>-0.353048</td>\n",
       "      <td>0.182861</td>\n",
       "      <td>True</td>\n",
       "      <td>False</td>\n",
       "      <td>False</td>\n",
       "      <td>False</td>\n",
       "      <td>False</td>\n",
       "      <td>...</td>\n",
       "      <td>False</td>\n",
       "      <td>False</td>\n",
       "      <td>True</td>\n",
       "      <td>False</td>\n",
       "      <td>False</td>\n",
       "      <td>False</td>\n",
       "      <td>False</td>\n",
       "      <td>False</td>\n",
       "      <td>False</td>\n",
       "      <td>False</td>\n",
       "    </tr>\n",
       "    <tr>\n",
       "      <th>36420</th>\n",
       "      <td>0.600000</td>\n",
       "      <td>-0.256954</td>\n",
       "      <td>-0.333333</td>\n",
       "      <td>0.705509</td>\n",
       "      <td>0.000000</td>\n",
       "      <td>True</td>\n",
       "      <td>False</td>\n",
       "      <td>False</td>\n",
       "      <td>True</td>\n",
       "      <td>False</td>\n",
       "      <td>...</td>\n",
       "      <td>False</td>\n",
       "      <td>False</td>\n",
       "      <td>False</td>\n",
       "      <td>False</td>\n",
       "      <td>False</td>\n",
       "      <td>False</td>\n",
       "      <td>False</td>\n",
       "      <td>False</td>\n",
       "      <td>False</td>\n",
       "      <td>False</td>\n",
       "    </tr>\n",
       "    <tr>\n",
       "      <th>1985</th>\n",
       "      <td>0.766667</td>\n",
       "      <td>-0.196118</td>\n",
       "      <td>0.000000</td>\n",
       "      <td>0.299547</td>\n",
       "      <td>0.089675</td>\n",
       "      <td>False</td>\n",
       "      <td>True</td>\n",
       "      <td>False</td>\n",
       "      <td>False</td>\n",
       "      <td>False</td>\n",
       "      <td>...</td>\n",
       "      <td>False</td>\n",
       "      <td>False</td>\n",
       "      <td>True</td>\n",
       "      <td>False</td>\n",
       "      <td>False</td>\n",
       "      <td>False</td>\n",
       "      <td>False</td>\n",
       "      <td>False</td>\n",
       "      <td>False</td>\n",
       "      <td>False</td>\n",
       "    </tr>\n",
       "    <tr>\n",
       "      <th>39079</th>\n",
       "      <td>0.900000</td>\n",
       "      <td>-0.201721</td>\n",
       "      <td>0.000000</td>\n",
       "      <td>0.130284</td>\n",
       "      <td>0.000000</td>\n",
       "      <td>True</td>\n",
       "      <td>False</td>\n",
       "      <td>False</td>\n",
       "      <td>False</td>\n",
       "      <td>False</td>\n",
       "      <td>...</td>\n",
       "      <td>False</td>\n",
       "      <td>False</td>\n",
       "      <td>False</td>\n",
       "      <td>False</td>\n",
       "      <td>False</td>\n",
       "      <td>False</td>\n",
       "      <td>False</td>\n",
       "      <td>False</td>\n",
       "      <td>False</td>\n",
       "      <td>False</td>\n",
       "    </tr>\n",
       "    <tr>\n",
       "      <th>...</th>\n",
       "      <td>...</td>\n",
       "      <td>...</td>\n",
       "      <td>...</td>\n",
       "      <td>...</td>\n",
       "      <td>...</td>\n",
       "      <td>...</td>\n",
       "      <td>...</td>\n",
       "      <td>...</td>\n",
       "      <td>...</td>\n",
       "      <td>...</td>\n",
       "      <td>...</td>\n",
       "      <td>...</td>\n",
       "      <td>...</td>\n",
       "      <td>...</td>\n",
       "      <td>...</td>\n",
       "      <td>...</td>\n",
       "      <td>...</td>\n",
       "      <td>...</td>\n",
       "      <td>...</td>\n",
       "      <td>...</td>\n",
       "      <td>...</td>\n",
       "    </tr>\n",
       "    <tr>\n",
       "      <th>42006</th>\n",
       "      <td>0.666667</td>\n",
       "      <td>0.342205</td>\n",
       "      <td>-0.333333</td>\n",
       "      <td>0.946499</td>\n",
       "      <td>0.325217</td>\n",
       "      <td>True</td>\n",
       "      <td>False</td>\n",
       "      <td>False</td>\n",
       "      <td>False</td>\n",
       "      <td>False</td>\n",
       "      <td>...</td>\n",
       "      <td>False</td>\n",
       "      <td>False</td>\n",
       "      <td>False</td>\n",
       "      <td>False</td>\n",
       "      <td>True</td>\n",
       "      <td>False</td>\n",
       "      <td>False</td>\n",
       "      <td>False</td>\n",
       "      <td>False</td>\n",
       "      <td>False</td>\n",
       "    </tr>\n",
       "    <tr>\n",
       "      <th>6901</th>\n",
       "      <td>0.733333</td>\n",
       "      <td>-0.266160</td>\n",
       "      <td>-0.333333</td>\n",
       "      <td>0.492974</td>\n",
       "      <td>0.000000</td>\n",
       "      <td>True</td>\n",
       "      <td>False</td>\n",
       "      <td>True</td>\n",
       "      <td>False</td>\n",
       "      <td>False</td>\n",
       "      <td>...</td>\n",
       "      <td>False</td>\n",
       "      <td>False</td>\n",
       "      <td>False</td>\n",
       "      <td>False</td>\n",
       "      <td>False</td>\n",
       "      <td>False</td>\n",
       "      <td>False</td>\n",
       "      <td>False</td>\n",
       "      <td>False</td>\n",
       "      <td>False</td>\n",
       "    </tr>\n",
       "    <tr>\n",
       "      <th>1037</th>\n",
       "      <td>0.866667</td>\n",
       "      <td>5.713828</td>\n",
       "      <td>16.000000</td>\n",
       "      <td>-0.170557</td>\n",
       "      <td>0.702763</td>\n",
       "      <td>True</td>\n",
       "      <td>False</td>\n",
       "      <td>False</td>\n",
       "      <td>False</td>\n",
       "      <td>False</td>\n",
       "      <td>...</td>\n",
       "      <td>False</td>\n",
       "      <td>False</td>\n",
       "      <td>True</td>\n",
       "      <td>False</td>\n",
       "      <td>False</td>\n",
       "      <td>False</td>\n",
       "      <td>False</td>\n",
       "      <td>False</td>\n",
       "      <td>False</td>\n",
       "      <td>False</td>\n",
       "    </tr>\n",
       "    <tr>\n",
       "      <th>21954</th>\n",
       "      <td>0.866667</td>\n",
       "      <td>0.180909</td>\n",
       "      <td>-0.333333</td>\n",
       "      <td>-0.170792</td>\n",
       "      <td>0.442988</td>\n",
       "      <td>True</td>\n",
       "      <td>False</td>\n",
       "      <td>True</td>\n",
       "      <td>False</td>\n",
       "      <td>False</td>\n",
       "      <td>...</td>\n",
       "      <td>False</td>\n",
       "      <td>False</td>\n",
       "      <td>False</td>\n",
       "      <td>False</td>\n",
       "      <td>False</td>\n",
       "      <td>False</td>\n",
       "      <td>False</td>\n",
       "      <td>False</td>\n",
       "      <td>False</td>\n",
       "      <td>False</td>\n",
       "    </tr>\n",
       "    <tr>\n",
       "      <th>33596</th>\n",
       "      <td>0.800000</td>\n",
       "      <td>1.145487</td>\n",
       "      <td>2.666667</td>\n",
       "      <td>0.240990</td>\n",
       "      <td>0.000000</td>\n",
       "      <td>False</td>\n",
       "      <td>True</td>\n",
       "      <td>False</td>\n",
       "      <td>False</td>\n",
       "      <td>False</td>\n",
       "      <td>...</td>\n",
       "      <td>False</td>\n",
       "      <td>False</td>\n",
       "      <td>True</td>\n",
       "      <td>False</td>\n",
       "      <td>False</td>\n",
       "      <td>False</td>\n",
       "      <td>False</td>\n",
       "      <td>False</td>\n",
       "      <td>False</td>\n",
       "      <td>False</td>\n",
       "    </tr>\n",
       "  </tbody>\n",
       "</table>\n",
       "<p>24182 rows × 22 columns</p>\n",
       "</div>"
      ],
      "text/plain": [
       "       product_rating  total_reviews  purchased_last_month  original_price  \\\n",
       "16916        0.766667      -0.122073             -0.333333       -0.076371   \n",
       "9654         0.800000       0.184110              0.333333       -0.353048   \n",
       "36420        0.600000      -0.256954             -0.333333        0.705509   \n",
       "1985         0.766667      -0.196118              0.000000        0.299547   \n",
       "39079        0.900000      -0.201721              0.000000        0.130284   \n",
       "...               ...            ...                   ...             ...   \n",
       "42006        0.666667       0.342205             -0.333333        0.946499   \n",
       "6901         0.733333      -0.266160             -0.333333        0.492974   \n",
       "1037         0.866667       5.713828             16.000000       -0.170557   \n",
       "21954        0.866667       0.180909             -0.333333       -0.170792   \n",
       "33596        0.800000       1.145487              2.666667        0.240990   \n",
       "\n",
       "       discount_percentage  is_sponsored_Organic  is_sponsored_Sponsored  \\\n",
       "16916             0.055139                  True                   False   \n",
       "9654              0.182861                  True                   False   \n",
       "36420             0.000000                  True                   False   \n",
       "1985              0.089675                 False                    True   \n",
       "39079             0.000000                  True                   False   \n",
       "...                    ...                   ...                     ...   \n",
       "42006             0.325217                  True                   False   \n",
       "6901              0.000000                  True                   False   \n",
       "1037              0.702763                  True                   False   \n",
       "21954             0.442988                  True                   False   \n",
       "33596             0.000000                 False                    True   \n",
       "\n",
       "       product_category_Cameras  product_category_Chargers & Cables  \\\n",
       "16916                      True                               False   \n",
       "9654                      False                               False   \n",
       "36420                     False                                True   \n",
       "1985                      False                               False   \n",
       "39079                     False                               False   \n",
       "...                         ...                                 ...   \n",
       "42006                     False                               False   \n",
       "6901                       True                               False   \n",
       "1037                      False                               False   \n",
       "21954                      True                               False   \n",
       "33596                     False                               False   \n",
       "\n",
       "       product_category_Gaming  ...  product_category_Networking  \\\n",
       "16916                    False  ...                        False   \n",
       "9654                     False  ...                        False   \n",
       "36420                    False  ...                        False   \n",
       "1985                     False  ...                        False   \n",
       "39079                    False  ...                        False   \n",
       "...                        ...  ...                          ...   \n",
       "42006                    False  ...                        False   \n",
       "6901                     False  ...                        False   \n",
       "1037                     False  ...                        False   \n",
       "21954                    False  ...                        False   \n",
       "33596                    False  ...                        False   \n",
       "\n",
       "       product_category_Other Electronics  product_category_Phones  \\\n",
       "16916                               False                    False   \n",
       "9654                                False                     True   \n",
       "36420                               False                    False   \n",
       "1985                                False                     True   \n",
       "39079                               False                    False   \n",
       "...                                   ...                      ...   \n",
       "42006                               False                    False   \n",
       "6901                                False                    False   \n",
       "1037                                False                     True   \n",
       "21954                               False                    False   \n",
       "33596                               False                     True   \n",
       "\n",
       "       product_category_Power & Batteries  \\\n",
       "16916                               False   \n",
       "9654                                False   \n",
       "36420                               False   \n",
       "1985                                False   \n",
       "39079                               False   \n",
       "...                                   ...   \n",
       "42006                               False   \n",
       "6901                                False   \n",
       "1037                                False   \n",
       "21954                               False   \n",
       "33596                               False   \n",
       "\n",
       "       product_category_Printers & Scanners  product_category_Smart Home  \\\n",
       "16916                                 False                        False   \n",
       "9654                                  False                        False   \n",
       "36420                                 False                        False   \n",
       "1985                                  False                        False   \n",
       "39079                                 False                        False   \n",
       "...                                     ...                          ...   \n",
       "42006                                  True                        False   \n",
       "6901                                  False                        False   \n",
       "1037                                  False                        False   \n",
       "21954                                 False                        False   \n",
       "33596                                 False                        False   \n",
       "\n",
       "       product_category_Speakers  product_category_Storage  \\\n",
       "16916                      False                     False   \n",
       "9654                       False                     False   \n",
       "36420                      False                     False   \n",
       "1985                       False                     False   \n",
       "39079                      False                     False   \n",
       "...                          ...                       ...   \n",
       "42006                      False                     False   \n",
       "6901                       False                     False   \n",
       "1037                       False                     False   \n",
       "21954                      False                     False   \n",
       "33596                      False                     False   \n",
       "\n",
       "       product_category_TV & Display  product_category_Wearables  \n",
       "16916                          False                       False  \n",
       "9654                           False                       False  \n",
       "36420                          False                       False  \n",
       "1985                           False                       False  \n",
       "39079                          False                       False  \n",
       "...                              ...                         ...  \n",
       "42006                          False                       False  \n",
       "6901                           False                       False  \n",
       "1037                           False                       False  \n",
       "21954                          False                       False  \n",
       "33596                          False                       False  \n",
       "\n",
       "[24182 rows x 22 columns]"
      ]
     },
     "execution_count": 40,
     "metadata": {},
     "output_type": "execute_result"
    }
   ],
   "source": [
    "X_train"
   ]
  },
  {
   "cell_type": "markdown",
   "id": "922442c7",
   "metadata": {},
   "source": [
    "# **Huấn luyện mô hình**"
   ]
  },
  {
   "cell_type": "code",
   "execution_count": 41,
   "id": "bf1b2cbc",
   "metadata": {},
   "outputs": [
    {
     "name": "stdout",
     "output_type": "stream",
     "text": [
      "\n",
      "🤖 MACHINE LEARNING MODELS\n",
      "----------------------------------------\n",
      "Các thuật toán được sử dụng:\n",
      "- LinearRegression\n",
      "- RandomForestRegressor\n",
      "- SVR\n",
      "- MLPRegressor\n"
     ]
    }
   ],
   "source": [
    "print(\"\\n🤖 MACHINE LEARNING MODELS\")\n",
    "print(\"-\" * 40)\n",
    "\n",
    "models = {\n",
    "    'LinearRegression': LinearRegression(),\n",
    "    'RandomForestRegressor': RandomForestRegressor(),\n",
    "    'SVR': SVR(),\n",
    "    'MLPRegressor': MLPRegressor()\n",
    "}\n",
    "\n",
    "# In tên các thuật toán\n",
    "print(\"Các thuật toán được sử dụng:\")\n",
    "for model_name in models.keys():\n",
    "    print(f\"- {model_name}\")\n"
   ]
  },
  {
   "cell_type": "code",
   "execution_count": 42,
   "id": "2ada2cbe",
   "metadata": {},
   "outputs": [
    {
     "name": "stdout",
     "output_type": "stream",
     "text": [
      "\n",
      "🔄 Training LinearRegression...\n",
      "✅ LinearRegression - MSE: 8687.0168, MAE: 43.3003, R2: 0.8714\n",
      "\n",
      "🔄 Training RandomForestRegressor...\n"
     ]
    },
    {
     "name": "stdout",
     "output_type": "stream",
     "text": [
      "✅ RandomForestRegressor - MSE: 22.1344, MAE: 0.4234, R2: 0.9997\n",
      "\n",
      "🔄 Training SVR...\n",
      "✅ SVR - MSE: 9028.7176, MAE: 17.6028, R2: 0.8663\n",
      "\n",
      "🔄 Training MLPRegressor...\n",
      "✅ MLPRegressor - MSE: 39.9195, MAE: 2.8107, R2: 0.9994\n"
     ]
    }
   ],
   "source": [
    "results = {}\n",
    "predictions = {}\n",
    "\n",
    "for name, model in models.items():\n",
    "    print(f\"\\n🔄 Training {name}...\")\n",
    "\n",
    "    try:\n",
    "        model.fit(X_train, y_train)\n",
    "        y_pred_scaled = model.predict(X_test)\n",
    "        y_pred = y_scaler.inverse_transform(y_pred_scaled.reshape(-1, 1))\n",
    "\n",
    "        # Dùng metrics cho regression\n",
    "        mse = mean_squared_error(y_test, y_pred)\n",
    "        mae = mean_absolute_error(y_test, y_pred)\n",
    "        r2  = r2_score(y_test, y_pred)\n",
    "\n",
    "        results[name] = {\"MSE\": mse, \"MAE\": mae, \"R2\": r2}\n",
    "        predictions[name] = y_pred\n",
    "\n",
    "        print(f\"✅ {name} - MSE: {mse:.4f}, MAE: {mae:.4f}, R2: {r2:.4f}\")\n",
    "\n",
    "    except Exception as e:\n",
    "        print(f\"❌ Error training {name}: {str(e)}\")\n",
    "        results[name] = {\"MSE\": None, \"MAE\": None, \"R2\": None}\n",
    "        predictions[name] = np.zeros(len(y_test))\n"
   ]
  }
 ],
 "metadata": {
  "colab": {
   "provenance": []
  },
  "kernelspec": {
   "display_name": "dl_python_3.10",
   "language": "python",
   "name": "python3"
  },
  "language_info": {
   "codemirror_mode": {
    "name": "ipython",
    "version": 3
   },
   "file_extension": ".py",
   "mimetype": "text/x-python",
   "name": "python",
   "nbconvert_exporter": "python",
   "pygments_lexer": "ipython3",
   "version": "3.13.7"
  }
 },
 "nbformat": 4,
 "nbformat_minor": 5
}
