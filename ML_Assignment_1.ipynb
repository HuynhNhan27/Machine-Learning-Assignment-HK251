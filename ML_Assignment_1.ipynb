{
  "cells": [
    {
      "cell_type": "markdown",
      "id": "90fa868b",
      "metadata": {
        "id": "90fa868b"
      },
      "source": [
        "<h1 style=\"font-size:2.8em; color:#1976d2; font-weight:bold\">BÀI TẬP DỰ ĐOÁN GIÁ SẢN PHẨM TRÊN SÀN THƯƠNG MẠI ĐIỆN TỬ AMAZON </h1>"
      ]
    },
    {
      "cell_type": "markdown",
      "id": "b218fdda",
      "metadata": {
        "id": "b218fdda"
      },
      "source": [
        "# **📘 GIỚI THIỆU BÀI TOÁN**\n",
        "\n",
        "***BÀI TẬP 1: HỌC MÁY VỚI DỮ LIỆU DẠNG BẢNG (TABULAR DATA)***\n",
        "\n",
        "* **Giảng viên hướng dẫn**  \n",
        "  * **Giảng viên: TS.Lê Thành Sách**\n",
        "\n",
        "* **Nhóm MNTV:**\n",
        "  * Tên: Huỳnh Đức Nhân - MSSV: 2312420\n",
        "  * Tên: Nguyễn Thiện Minh - MSSV: 2312097\n",
        "  * Tên: Nguyễn Lưu Khánh Trình - MSSV: 2313638\n",
        "  * Tên: Lê Công Vinh - MSSV: 2313912\n",
        "\n",
        "* **Giới thiệu bài toán**\n",
        "  * Xây dựng pipeline học máy truyền thống cho dữ liệu dạng bảng, ở đây nhóm sử dụng bộ dữ liệu Amazon Products Sales Dataset 42K+ Items - 2025.\n",
        "\n",
        "  * Mục tiêu của các mô hình là dự đoán và đề xuất giá hàng giảm giá cho các sản phẩm có trong bộ dữ liệu.\n",
        "\n",
        "  * Amazon Products Sales Dataset 42K+ Items - 2025 chứa thông tin về 42,000 sản phẩm điện tử được bày bán trên Amazon, bao gồm tên, loại hàng, giá cả, lượng mua, đánh giá của người mua....\n",
        "\n",
        "  * Thông tin về bộ dữ liệu:\n",
        "    * Tổng số mẫu: 42,675 mẫu.\n",
        "    * Số feature: 17.\n",
        "    * Format dữ liệu: Numeric và categorical.\n",
        "    * Link dataset: [Kaggle - Amazon Products Sales](https://www.kaggle.com/datasets/ikramshah512/amazon-products-sales-dataset-42k-items-2025/data?select=amazon_products_sales_data_cleaned.csv)\n",
        "\n",
        "*  **Mục tiêu của bài toán**\n",
        "    * ***Xây dựng pipeline hoàn chỉnh***: từ việc tải dữ liệu, xử lý, phân tích (EDA), huấn luyện đến đánh giá mô hình.\n",
        "    * ***So sánh nhiều mô hình phân loại***: Từ các mô hình đơn giản như Linear Regression, Decision Tree, Random Forest đến các mô hình phức tạp hơn như SVM, MLP.\n",
        "    * ***Phân tích chi tiết***: Đánh giá thông qua các chỉ số đánh giá mô hình như MSE, MAE, RMSE, R2 và phân tích kết quả.\n",
        "\n",
        "* **Các mô hình sẽ được triển khai:**\n",
        "    * ***Linear Regression***\n",
        "    * ***Random Forest***\n",
        "    * ***SVM***\n",
        "    * ***MLP***\n",
        "\n",
        "****"
      ]
    },
    {
      "cell_type": "markdown",
      "id": "be4fc669",
      "metadata": {
        "id": "be4fc669"
      },
      "source": [
        "# **📌 Cài đặt & import các thư viện**"
      ]
    },
    {
      "cell_type": "markdown",
      "id": "AEM8UbjQj89R",
      "metadata": {
        "id": "AEM8UbjQj89R"
      },
      "source": [
        "## *Giới thiệu các thư viện sử dụng*\n",
        "Trong quá trình xây dựng và huấn luyện mô hình Machine Learning, nhóm đã sử dụng nhiều thư viện Python phổ biến, hỗ trợ mạnh mẽ cho việc xử lý dữ liệu, trực quan hóa cũng như xây dựng và đánh giá mô hình. Cụ thể:\n",
        "- numpy (np): thư viện xử lý mảng số học, hỗ trợ các phép toán ma trận, đại số tuyến tính – nền tảng cho hầu hết các tính toán trong Machine Learning.\n",
        "- pandas (pd): cung cấp cấu trúc dữ liệu DataFrame thuận tiện cho việc xử lý, làm sạch, và phân tích dữ liệu.\n",
        "- matplotlib.pyplot (plt) và seaborn (sns): dùng để trực quan hóa dữ liệu, hỗ trợ vẽ biểu đồ, biểu diễn phân bố và mối quan hệ giữa các biến.\n",
        "- sklearn.pipeline (Pipeline) và sklearn.compose (ColumnTransformer): dùng để xây dựng pipeline học máy.\n",
        "-  sklearn.model_selection (train_test_split): công cụ chia dữ liệu thành tập huấn luyện và tập kiểm thử.\n",
        "- sklearn.impute (SimpleImputer): cung cấp một số công cụ impute đơn giản.\n",
        "- sklearn.preprocessing (StandardScaler, MinMaxScaler, RobustScaler, OneHotEncoder, OrdinalEncoder): các kỹ thuật chuẩn hóa dữ liệu, xử lý dữ liệu phân loại để cải thiện hiệu quả huấn luyện mô hình.\n",
        "- sklearn.linear_model (LinearRegression): mô hình hồi quy tuyến tính, một thuật toán cơ bản trong học máy.\n",
        "- sklearn.ensemble (RandomForestRegressor): thuật toán hồi quy dựa trên rừng ngẫu nhiên (ensemble learning), cho độ chính xác cao và khả năng khái quát tốt.\n",
        "- sklearn.neural_network (MLPRegressor): mô hình hồi quy sử dụng mạng nơ-ron truyền thẳng đa lớp (Multi-Layer Perceptron).\n",
        "- sklearn.svm (SVR): mô hình hồi quy dựa trên máy vector hỗ trợ (Support Vector Regression).\n",
        "- sklearn.metrics (mean_squared_error, root_mean_squared_error, mean_absolute_error, r2_score): các thước đo đánh giá hiệu năng của mô hình, bao gồm sai số bình phương trung bình, sai số tuyệt đối trung bình, và hệ số xác định R2\n",
        "- warnings: dùng để quản lý và ẩn bớt các cảnh báo không cần thiết trong quá trình chạy chương trình.\n",
        "Ngoài ra, để tăng tính trực quan của biểu đồ, nhóm thiết lập style hiển thị cho matplotlib bằng plt.style.use('seaborn-v0_8') và thiết lập bảng màu cho seaborn bằng sns.set_palette(\"husl\")."
      ]
    },
    {
      "cell_type": "code",
      "execution_count": 1,
      "id": "5ec5eda2",
      "metadata": {
        "id": "5ec5eda2"
      },
      "outputs": [],
      "source": [
        "import numpy as np\n",
        "import pandas as pd\n",
        "import matplotlib.pyplot as plt\n",
        "import seaborn as sns\n",
        "import sklearn\n",
        "from sklearn.pipeline import Pipeline\n",
        "from sklearn.compose import ColumnTransformer\n",
        "from sklearn.model_selection import train_test_split\n",
        "from sklearn.impute import SimpleImputer\n",
        "from sklearn.preprocessing import StandardScaler, MinMaxScaler, RobustScaler, OneHotEncoder, OrdinalEncoder\n",
        "from sklearn.linear_model import LinearRegression\n",
        "from sklearn.ensemble import RandomForestRegressor\n",
        "from sklearn.neural_network import MLPRegressor\n",
        "from sklearn.svm import SVR\n",
        "from sklearn.metrics import mean_squared_error, root_mean_squared_error, mean_absolute_error, r2_score\n",
        "import warnings\n",
        "warnings.filterwarnings('ignore')\n",
        "# Thiết lập style cho matplotlib\n",
        "plt.style.use('seaborn-v0_8')\n",
        "sns.set_palette(\"husl\")\n",
        "sklearn.set_config(enable_metadata_routing=True)"
      ]
    },
    {
      "cell_type": "markdown",
      "id": "d3c495b1",
      "metadata": {
        "id": "d3c495b1"
      },
      "source": [
        "# **📥 Tải và kiểm tra dữ liệu**"
      ]
    },
    {
      "cell_type": "markdown",
      "id": "28d5647c",
      "metadata": {
        "id": "28d5647c"
      },
      "source": [
        "## *Tải dữ liệu*"
      ]
    },
    {
      "cell_type": "markdown",
      "id": "fckrJsBBhUfl",
      "metadata": {
        "id": "fckrJsBBhUfl"
      },
      "source": [
        "Đầu tiên, nhóm tiến hành tải bộ dữ liệu **Amazon Products Sales Dataset 42K+ Items – 2025** từ **Kaggle** thông qua thư viện `kagglehub`. Sau khi tải về, file dữ liệu có tên `amazon_products_sales_data_cleaned.csv` được sử dụng để huấn luyện mô hình.  \n",
        "\n",
        "- Sử dụng `kagglehub.dataset_download(...)` để tải bộ dữ liệu từ Kaggle.  \n",
        "- Sử dụng `pandas.read_csv(...)` để đọc dữ liệu dưới dạng bảng.  \n",
        "\n",
        "**Một số cột quan trọng:**\n",
        "- `product_title`: Tên sản phẩm.  \n",
        "- `product_rating`: Điểm đánh giá trung bình của sản phẩm.  \n",
        "- `total_reviews`: Tổng số lượng đánh giá.  \n",
        "- `purchased_last_month`: Số lượng mua trong tháng gần nhất.  \n",
        "- `discounted_price`: Giá sau khi giảm.  \n",
        "- `original_price`: Giá gốc.  \n",
        "- `is_best_seller`, `is_sponsored`, `has_coupon`: Thông tin nhãn sản phẩm.  \n",
        "- `delivery_date`, `sustainability_tags`: Thông tin giao hàng và thẻ bền vững.  \n",
        "- `product_category`: Loại sản phẩm.  \n",
        "- `discount_percentage`: Phần trăm giảm giá.  \n",
        "\n",
        "Khi kiểm tra nhanh bằng `df.head()`, dữ liệu hiển thị rõ các thông tin mô tả sản phẩm và các đặc trưng cần thiết cho việc xây dựng mô hình dự đoán giá giảm giá."
      ]
    },
    {
      "cell_type": "code",
      "execution_count": 2,
      "id": "39bd0800",
      "metadata": {
        "colab": {
          "base_uri": "https://localhost:8080/"
        },
        "id": "39bd0800",
        "outputId": "3bcd16a0-9d23-440d-aa17-ed2098ae601e"
      },
      "outputs": [
        {
          "name": "stdout",
          "output_type": "stream",
          "text": [
            "Warning: Looks like you're using an outdated `kagglehub` version, please consider updating (latest version: 0.3.13)\n",
            "Path to dataset files: /home/nhan/.cache/kagglehub/datasets/ikramshah512/amazon-products-sales-dataset-42k-items-2025/versions/1\n"
          ]
        }
      ],
      "source": [
        "import kagglehub\n",
        "\n",
        "path = kagglehub.dataset_download(\"ikramshah512/amazon-products-sales-dataset-42k-items-2025\")\n",
        "\n",
        "print(\"Path to dataset files:\", path)"
      ]
    },
    {
      "cell_type": "code",
      "execution_count": 3,
      "id": "2af12c6a",
      "metadata": {
        "colab": {
          "base_uri": "https://localhost:8080/",
          "height": 503
        },
        "id": "2af12c6a",
        "outputId": "2d65ab23-1bbb-4cab-baf4-e64a57e930ac"
      },
      "outputs": [
        {
          "data": {
            "text/html": [
              "<div>\n",
              "<style scoped>\n",
              "    .dataframe tbody tr th:only-of-type {\n",
              "        vertical-align: middle;\n",
              "    }\n",
              "\n",
              "    .dataframe tbody tr th {\n",
              "        vertical-align: top;\n",
              "    }\n",
              "\n",
              "    .dataframe thead th {\n",
              "        text-align: right;\n",
              "    }\n",
              "</style>\n",
              "<table border=\"1\" class=\"dataframe\">\n",
              "  <thead>\n",
              "    <tr style=\"text-align: right;\">\n",
              "      <th></th>\n",
              "      <th>product_title</th>\n",
              "      <th>product_rating</th>\n",
              "      <th>total_reviews</th>\n",
              "      <th>purchased_last_month</th>\n",
              "      <th>discounted_price</th>\n",
              "      <th>original_price</th>\n",
              "      <th>is_best_seller</th>\n",
              "      <th>is_sponsored</th>\n",
              "      <th>has_coupon</th>\n",
              "      <th>buy_box_availability</th>\n",
              "      <th>delivery_date</th>\n",
              "      <th>sustainability_tags</th>\n",
              "      <th>product_image_url</th>\n",
              "      <th>product_page_url</th>\n",
              "      <th>data_collected_at</th>\n",
              "      <th>product_category</th>\n",
              "      <th>discount_percentage</th>\n",
              "    </tr>\n",
              "  </thead>\n",
              "  <tbody>\n",
              "    <tr>\n",
              "      <th>0</th>\n",
              "      <td>BOYA BOYALINK 2 Wireless Lavalier Microphone f...</td>\n",
              "      <td>4.6</td>\n",
              "      <td>375.0</td>\n",
              "      <td>300.0</td>\n",
              "      <td>89.68</td>\n",
              "      <td>159.00</td>\n",
              "      <td>No Badge</td>\n",
              "      <td>Sponsored</td>\n",
              "      <td>Save 15%  with coupon</td>\n",
              "      <td>Add to cart</td>\n",
              "      <td>2025-09-01</td>\n",
              "      <td>Carbon impact</td>\n",
              "      <td>https://m.media-amazon.com/images/I/71pAqiVEs3...</td>\n",
              "      <td>https://www.amazon.com/sspa/click?ie=UTF8&amp;spc=...</td>\n",
              "      <td>2025-08-21 11:14:29</td>\n",
              "      <td>Phones</td>\n",
              "      <td>43.60</td>\n",
              "    </tr>\n",
              "    <tr>\n",
              "      <th>1</th>\n",
              "      <td>LISEN USB C to Lightning Cable, 240W 4 in 1 Ch...</td>\n",
              "      <td>4.3</td>\n",
              "      <td>2457.0</td>\n",
              "      <td>6000.0</td>\n",
              "      <td>9.99</td>\n",
              "      <td>15.99</td>\n",
              "      <td>No Badge</td>\n",
              "      <td>Sponsored</td>\n",
              "      <td>No Coupon</td>\n",
              "      <td>Add to cart</td>\n",
              "      <td>2025-08-29</td>\n",
              "      <td>NaN</td>\n",
              "      <td>https://m.media-amazon.com/images/I/61nbF6aVIP...</td>\n",
              "      <td>https://www.amazon.com/sspa/click?ie=UTF8&amp;spc=...</td>\n",
              "      <td>2025-08-21 11:14:29</td>\n",
              "      <td>Laptops</td>\n",
              "      <td>37.52</td>\n",
              "    </tr>\n",
              "    <tr>\n",
              "      <th>2</th>\n",
              "      <td>DJI Mic 2 (2 TX + 1 RX + Charging Case), Wirel...</td>\n",
              "      <td>4.6</td>\n",
              "      <td>3044.0</td>\n",
              "      <td>2000.0</td>\n",
              "      <td>314.00</td>\n",
              "      <td>349.00</td>\n",
              "      <td>No Badge</td>\n",
              "      <td>Sponsored</td>\n",
              "      <td>No Coupon</td>\n",
              "      <td>Add to cart</td>\n",
              "      <td>2025-09-01</td>\n",
              "      <td>NaN</td>\n",
              "      <td>https://m.media-amazon.com/images/I/61h78MEXoj...</td>\n",
              "      <td>https://www.amazon.com/sspa/click?ie=UTF8&amp;spc=...</td>\n",
              "      <td>2025-08-21 11:14:29</td>\n",
              "      <td>Laptops</td>\n",
              "      <td>10.03</td>\n",
              "    </tr>\n",
              "    <tr>\n",
              "      <th>3</th>\n",
              "      <td>Apple AirPods Pro 2 Wireless Earbuds, Active N...</td>\n",
              "      <td>4.6</td>\n",
              "      <td>35882.0</td>\n",
              "      <td>10000.0</td>\n",
              "      <td>162.24</td>\n",
              "      <td>162.24</td>\n",
              "      <td>Best Seller</td>\n",
              "      <td>Organic</td>\n",
              "      <td>No Coupon</td>\n",
              "      <td>NaN</td>\n",
              "      <td>NaN</td>\n",
              "      <td>NaN</td>\n",
              "      <td>https://m.media-amazon.com/images/I/61SUj2aKoE...</td>\n",
              "      <td>https://www.amazon.com/Apple-Cancellation-Tran...</td>\n",
              "      <td>2025-08-21 11:14:29</td>\n",
              "      <td>Phones</td>\n",
              "      <td>0.00</td>\n",
              "    </tr>\n",
              "    <tr>\n",
              "      <th>4</th>\n",
              "      <td>Apple AirTag 4 Pack. Keep Track of and find Yo...</td>\n",
              "      <td>4.8</td>\n",
              "      <td>28988.0</td>\n",
              "      <td>10000.0</td>\n",
              "      <td>72.74</td>\n",
              "      <td>72.74</td>\n",
              "      <td>No Badge</td>\n",
              "      <td>Organic</td>\n",
              "      <td>No Coupon</td>\n",
              "      <td>NaN</td>\n",
              "      <td>NaN</td>\n",
              "      <td>NaN</td>\n",
              "      <td>https://m.media-amazon.com/images/I/61bMNCeAUA...</td>\n",
              "      <td>https://www.amazon.com/Apple-MX542LL-A-AirTag-...</td>\n",
              "      <td>2025-08-21 11:14:29</td>\n",
              "      <td>Phones</td>\n",
              "      <td>0.00</td>\n",
              "    </tr>\n",
              "  </tbody>\n",
              "</table>\n",
              "</div>"
            ],
            "text/plain": [
              "                                       product_title  product_rating  \\\n",
              "0  BOYA BOYALINK 2 Wireless Lavalier Microphone f...             4.6   \n",
              "1  LISEN USB C to Lightning Cable, 240W 4 in 1 Ch...             4.3   \n",
              "2  DJI Mic 2 (2 TX + 1 RX + Charging Case), Wirel...             4.6   \n",
              "3  Apple AirPods Pro 2 Wireless Earbuds, Active N...             4.6   \n",
              "4  Apple AirTag 4 Pack. Keep Track of and find Yo...             4.8   \n",
              "\n",
              "   total_reviews  purchased_last_month  discounted_price  original_price  \\\n",
              "0          375.0                 300.0             89.68          159.00   \n",
              "1         2457.0                6000.0              9.99           15.99   \n",
              "2         3044.0                2000.0            314.00          349.00   \n",
              "3        35882.0               10000.0            162.24          162.24   \n",
              "4        28988.0               10000.0             72.74           72.74   \n",
              "\n",
              "  is_best_seller is_sponsored             has_coupon buy_box_availability  \\\n",
              "0       No Badge    Sponsored  Save 15%  with coupon          Add to cart   \n",
              "1       No Badge    Sponsored              No Coupon          Add to cart   \n",
              "2       No Badge    Sponsored              No Coupon          Add to cart   \n",
              "3    Best Seller      Organic              No Coupon                  NaN   \n",
              "4       No Badge      Organic              No Coupon                  NaN   \n",
              "\n",
              "  delivery_date sustainability_tags  \\\n",
              "0    2025-09-01       Carbon impact   \n",
              "1    2025-08-29                 NaN   \n",
              "2    2025-09-01                 NaN   \n",
              "3           NaN                 NaN   \n",
              "4           NaN                 NaN   \n",
              "\n",
              "                                   product_image_url  \\\n",
              "0  https://m.media-amazon.com/images/I/71pAqiVEs3...   \n",
              "1  https://m.media-amazon.com/images/I/61nbF6aVIP...   \n",
              "2  https://m.media-amazon.com/images/I/61h78MEXoj...   \n",
              "3  https://m.media-amazon.com/images/I/61SUj2aKoE...   \n",
              "4  https://m.media-amazon.com/images/I/61bMNCeAUA...   \n",
              "\n",
              "                                    product_page_url    data_collected_at  \\\n",
              "0  https://www.amazon.com/sspa/click?ie=UTF8&spc=...  2025-08-21 11:14:29   \n",
              "1  https://www.amazon.com/sspa/click?ie=UTF8&spc=...  2025-08-21 11:14:29   \n",
              "2  https://www.amazon.com/sspa/click?ie=UTF8&spc=...  2025-08-21 11:14:29   \n",
              "3  https://www.amazon.com/Apple-Cancellation-Tran...  2025-08-21 11:14:29   \n",
              "4  https://www.amazon.com/Apple-MX542LL-A-AirTag-...  2025-08-21 11:14:29   \n",
              "\n",
              "  product_category  discount_percentage  \n",
              "0           Phones                43.60  \n",
              "1          Laptops                37.52  \n",
              "2          Laptops                10.03  \n",
              "3           Phones                 0.00  \n",
              "4           Phones                 0.00  "
            ]
          },
          "execution_count": 3,
          "metadata": {},
          "output_type": "execute_result"
        }
      ],
      "source": [
        "import os\n",
        "df = pd.read_csv(os.path.join(path, \"amazon_products_sales_data_cleaned.csv\"))\n",
        "df.head()"
      ]
    },
    {
      "cell_type": "markdown",
      "id": "b7987a5f",
      "metadata": {
        "id": "b7987a5f"
      },
      "source": [
        "# **📊 EDA - Khám phá dữ liệu**"
      ]
    },
    {
      "cell_type": "markdown",
      "id": "bfae5edf",
      "metadata": {
        "id": "bfae5edf"
      },
      "source": [
        "## *Thông số bộ dữ liệu*"
      ]
    },
    {
      "cell_type": "markdown",
      "id": "vCR2v86WzOGa",
      "metadata": {
        "id": "vCR2v86WzOGa"
      },
      "source": [
        "# Phân tích tổng quan về bộ dữ liệu\n",
        "Nhìn chung bộ dữ liệu Amazon Products Sales Dataset có quy mô khá lớn với 42,675 mẫu (hàng) và 17 đặc trưng (cột) với các kiểu dữ liệu khác nhau được chia thành 2 loại chính:\n",
        "- Kiểu numeric (float64):\n",
        "    - product_rating: Đây là điểm đánh giá của sản phẩm, rất quan trọng để xác định chất lượng và mức độ phổ biến.\n",
        "    - total_reviews: Tổng số lượt đánh giá, cho biết mức độ tương tác và độ tin cậy của sản phẩm.\n",
        "    - purchased_last_month: Số lượng sản phẩm được mua trong tháng trước, một chỉ số trực tiếp về hiệu suất bán hàng\n",
        "    - discounted_price: Giá sản phẩm sau khi đã giảm giá. Đây có thể là biến mục tiêu (target variable) mà mô hình cần dự đoán.\n",
        "    - original_price: Giá gốc của sản phẩm, có thể được dùng để tính discount_percentage.\n",
        "    - discount_percentage: Phần trăm giảm giá. Biến này có thể được tạo ra từ original_price và discounted_price.\n",
        "- Kiểu categorical (object):\n",
        "  - product_title: Tên sản phẩm, thường cần được xử lý bằng các kỹ thuật NLP (Xử lý ngôn ngữ tự nhiên) như mã hóa văn bản hoặc phân tích từ khóa để trích xuất các đặc trưng hữu ích\n",
        "  - is_best_seller, has_coupon, buy_box_availability, is_sponsored: Các cột này là biến phân loại (categorical variables) dạng boolean hoặc nhị phân, cần được mã hóa số (ví dụ: 0 và 1) để đưa vào mô hình. Chúng là các đặc trưng quan trọng cho thấy sản phẩm có được Amazon ưu tiên hiển thị hay không.\n",
        "  - delivery_date, data_collected_at: Các biến này là dạng chuỗi thời gian, cần được chuyển đổi sang định dạng datetime để trích xuất các đặc trưng liên quan đến thời gian (ví dụ: ngày trong tuần, tháng, năm).\n",
        "  - sustainability_tags, product_image_url, product_page_url: Các biến này có thể cần được phân tích thêm hoặc loại bỏ nếu không cung cấp thông tin hữu ích.\n",
        "  - product_category: Danh mục sản phẩm, là một biến phân loại quan trọng. Cần mã hóa bằng các phương pháp như One-Hot Encoding hoặc Label Encoding.\n",
        "\n",
        "\n",
        "\n",
        "\n",
        "\n"
      ]
    },
    {
      "cell_type": "code",
      "execution_count": 4,
      "id": "3a5edceb",
      "metadata": {
        "colab": {
          "base_uri": "https://localhost:8080/"
        },
        "id": "3a5edceb",
        "outputId": "6bdffd99-6024-4ef4-b9dd-12842de1f466"
      },
      "outputs": [
        {
          "name": "stdout",
          "output_type": "stream",
          "text": [
            "\n",
            "Dataset Info:\n",
            "Total samples: 42,675\n",
            "Features: 17\n",
            "Data Shape: (42675, 17)\n",
            "Columns: Index(['product_title', 'product_rating', 'total_reviews',\n",
            "       'purchased_last_month', 'discounted_price', 'original_price',\n",
            "       'is_best_seller', 'is_sponsored', 'has_coupon', 'buy_box_availability',\n",
            "       'delivery_date', 'sustainability_tags', 'product_image_url',\n",
            "       'product_page_url', 'data_collected_at', 'product_category',\n",
            "       'discount_percentage'],\n",
            "      dtype='object')\n"
          ]
        }
      ],
      "source": [
        "print(\"\\nDataset Info:\")\n",
        "print(f\"Total samples: {len(df):,}\")\n",
        "print(f\"Features: {df.shape[1]}\")\n",
        "print(f\"Data Shape: {df.shape}\")\n",
        "print(f\"Columns: {df.columns}\")"
      ]
    },
    {
      "cell_type": "code",
      "execution_count": 5,
      "id": "e1193bb1",
      "metadata": {
        "colab": {
          "base_uri": "https://localhost:8080/"
        },
        "id": "e1193bb1",
        "outputId": "f196a2de-7209-4faa-b7a9-60d3daefda6d"
      },
      "outputs": [
        {
          "name": "stdout",
          "output_type": "stream",
          "text": [
            "Dtypes:\n",
            "product_title            object\n",
            "product_rating          float64\n",
            "total_reviews           float64\n",
            "purchased_last_month    float64\n",
            "discounted_price        float64\n",
            "original_price          float64\n",
            "is_best_seller           object\n",
            "is_sponsored             object\n",
            "has_coupon               object\n",
            "buy_box_availability     object\n",
            "delivery_date            object\n",
            "sustainability_tags      object\n",
            "product_image_url        object\n",
            "product_page_url         object\n",
            "data_collected_at        object\n",
            "product_category         object\n",
            "discount_percentage     float64\n",
            "dtype: object\n"
          ]
        }
      ],
      "source": [
        "print(\"Dtypes:\")\n",
        "print(df.dtypes)"
      ]
    },
    {
      "cell_type": "markdown",
      "id": "4zhxB1FmwmvF",
      "metadata": {
        "id": "4zhxB1FmwmvF"
      },
      "source": [
        "# Phân tích giá trị bị thiếu\n",
        "Kết quả cho thấy có nhiều cột chứa giá trị thiếu (missing values), điều này cần được xử lý cẩn thận trước khi xây dựng mô hình. Mức độ thiếu dữ liệu ở các cột rất khác nhau:\n",
        "- sustainability_tags: Hầu hết dữ liệu bị thiếu, cột này có thể bị loại bỏ vì không cung cấp nhiều thông tin hữu ích.\n",
        "- buy_box_availability, delivery_date, purchased_last_month: Lượng dữ liệu thiếu đáng kể, nên được xử lý bằng cách điền giá trị hoặc loại bỏ các hàng để đảm bảo tính chính xác của dữ liệu.\n",
        "- product_page_url, original_price, discounted_price, discount_percentage, total_reviews, product_rating: Tỷ lệ thiếu thấp, có thể loại bỏ các hàng có dữ liệu thiếu để đảm bảo độ chính xác cho mô hình.\n",
        "- product_title, is_best_seller, is_sponsored, has_coupon, product_image_url, data_collected_at, product_category:  Các cột này không có giá trị thiếu và sẵn sàng để được sử dụng trong mô hình."
      ]
    },
    {
      "cell_type": "code",
      "execution_count": 6,
      "id": "c4fa6566",
      "metadata": {
        "colab": {
          "base_uri": "https://localhost:8080/"
        },
        "id": "c4fa6566",
        "outputId": "a7a429e1-7d15-42c3-9fea-3acd8c7c2217"
      },
      "outputs": [
        {
          "name": "stdout",
          "output_type": "stream",
          "text": [
            "Missing Value:\n",
            "                       missing  percent\n",
            "sustainability_tags     39267    92.01\n",
            "buy_box_availability    14653    34.34\n",
            "delivery_date           11983    28.08\n",
            "purchased_last_month    10511    24.63\n",
            "product_page_url         2069     4.85\n",
            "original_price           2062     4.83\n",
            "discounted_price         2062     4.83\n",
            "discount_percentage      2062     4.83\n",
            "total_reviews            1024     2.40\n",
            "product_rating           1024     2.40\n",
            "product_title               0     0.00\n",
            "is_best_seller              0     0.00\n",
            "is_sponsored                0     0.00\n",
            "has_coupon                  0     0.00\n",
            "product_image_url           0     0.00\n",
            "data_collected_at           0     0.00\n",
            "product_category            0     0.00\n"
          ]
        }
      ],
      "source": [
        "def missing_report(df: pd.DataFrame) -> pd.DataFrame:\n",
        "    missing_df = df.isna().sum().sort_values(ascending=False)\n",
        "    return pd.DataFrame({\"missing\" : missing_df, \"percent\" : (missing_df / len(df) * 100).round(2)})\n",
        "\n",
        "print(\"Missing Value:\\n\", missing_report(df))"
      ]
    },
    {
      "cell_type": "markdown",
      "id": "Dn4Nus2NQafK",
      "metadata": {
        "id": "Dn4Nus2NQafK"
      },
      "source": [
        "# Phân tích số lượng giá trị khác nhau của thuộc tính (Unique Values)\n",
        "- product_title (8898): Tên sản phẩm có nhiều giá trị khác nhau, điều này cho thấy có một loạt các sản phẩm khác nhau.\n",
        "- total_reviews (4413), discounted_price (3558), original_price (3151), discount_percentage (1526): Các cột giá có nhiều giá trị khác nhau, phù hợp với một bài toán dự đoán giá sản phẩm liên tục.\n",
        "- has_coupon (42): Cột này có 42 giá trị khác nhau, có thể thể hiện các loại mã giảm giá khác nhau. Cần kiểm tra kỹ hơn để xem đây là biến phân loại hay số, và cách xử lý phù hợp.\n",
        "- product_rating (31), purchased_last_month (29): Hai cột này có số giá trị khác nhau ở mức tương đối, nhưng lại đủ để cho thấy sự đa dạng trong đánh giá và số lượt mua vì product_rating có giá trị từ 1.0 đến 5.0 (40 giá trị), còn purchased_last_month vốn đã được xử lý từ dạng 'number+' thành số.\n",
        "- product_category (15): Cột này có số lượng giá trị khác nhau ít, cho thấy sản phẩm được phân loại thành 15 danh mục khác nhau.\n",
        "- is_best_seller, is_sponsored (2): Cả hai cột này chỉ có hai loại giá trị, cho thấy chúng là biến nhị phân (binary variables). Chúng có thể được mã hóa trực tiếp thành 0 và 1."
      ]
    },
    {
      "cell_type": "code",
      "execution_count": 7,
      "id": "8d55d74b",
      "metadata": {
        "colab": {
          "base_uri": "https://localhost:8080/"
        },
        "id": "8d55d74b",
        "outputId": "c27fa8cc-677a-4f02-e3f2-252b48d74c9a"
      },
      "outputs": [
        {
          "name": "stdout",
          "output_type": "stream",
          "text": [
            "product_title            8808\n",
            "product_rating             31\n",
            "total_reviews            4413\n",
            "purchased_last_month       29\n",
            "discounted_price         3558\n",
            "original_price           3151\n",
            "is_best_seller             12\n",
            "is_sponsored                2\n",
            "has_coupon                 42\n",
            "buy_box_availability        1\n",
            "delivery_date              24\n",
            "sustainability_tags        16\n",
            "product_image_url        8038\n",
            "product_page_url        40606\n",
            "data_collected_at        1559\n",
            "product_category           15\n",
            "discount_percentage      1526\n",
            "dtype: int64\n"
          ]
        }
      ],
      "source": [
        "print(df.nunique())"
      ]
    },
    {
      "cell_type": "markdown",
      "id": "fc02dcdd",
      "metadata": {
        "id": "fc02dcdd"
      },
      "source": [
        "## *Thống kê mô tả với biến numeric*"
      ]
    },
    {
      "cell_type": "markdown",
      "id": "Z6hGxpTPc6N9",
      "metadata": {
        "id": "Z6hGxpTPc6N9"
      },
      "source": [
        "### Đánh giá tổng quan mô tả dữ liệu\n",
        "\n",
        "- **Product Rating**: Điểm trung bình ~4.4/5, phân bố nghiêng về phía 4–5 sao → đa số sản phẩm được đánh giá cao.  \n",
        "- **Total Reviews**: Trung bình ~3087 lượt đánh giá, độ lệch chuẩn rất lớn (13,030), có sản phẩm đạt đến 865,598 review → phân phối lệch mạnh.  \n",
        "- **Purchased Last Month**: Trung bình ~1294 lượt mua/tháng, nhưng phân tán lớn (std ~6318, max 10,000).  \n",
        "- **Discounted Price**: Giá sau giảm trung bình ~243, dao động rộng (2.16 → 5449), trải dài từ sản phẩm giá rất rẻ đến rất cao.  \n",
        "- **Original Price**: Giá gốc trung bình ~257, tối đa 5449, biến động lớn.  \n",
        "- **Discount Percentage**: Trung bình ~6.5%, phần lớn gần 0% (median ~0%), chỉ một số ít giảm mạnh (max ~85%).  \n",
        "\n",
        "👉 **Kết luận**: Dữ liệu có nhiều biến phân phối lệch phải và chứa outlier (đặc biệt ở `total_reviews`, `purchased_last_month`, `discounted_price` và `original_price`). Do đó, khi huấn luyện mô hình hồi quy, cần cân nhắc **chuẩn hóa dữ liệu** và **xử lý outlier** để đảm bảo độ ổn định và chính xác.\n"
      ]
    },
    {
      "cell_type": "code",
      "execution_count": 8,
      "id": "bd79b1d1",
      "metadata": {
        "colab": {
          "base_uri": "https://localhost:8080/"
        },
        "id": "bd79b1d1",
        "outputId": "3394ec7d-2904-4d51-9f4f-1133a556bc41"
      },
      "outputs": [
        {
          "name": "stdout",
          "output_type": "stream",
          "text": [
            "       product_rating  total_reviews  purchased_last_month  discounted_price  \\\n",
            "count    41651.000000   41651.000000          32164.000000      40613.000000   \n",
            "mean         4.399431    3087.106000           1293.665278        243.227289   \n",
            "std          0.386997   13030.460133           6318.323574        473.351545   \n",
            "min          1.000000       1.000000             50.000000          2.160000   \n",
            "25%          4.200000      82.000000            100.000000         29.690000   \n",
            "50%          4.500000     343.000000            200.000000         84.990000   \n",
            "75%          4.700000    1886.000000            400.000000        224.000000   \n",
            "max          5.000000  865598.000000         100000.000000       5449.000000   \n",
            "\n",
            "       original_price  discount_percentage  \n",
            "count    40613.000000         40613.000000  \n",
            "mean       257.611107             6.547151  \n",
            "std        496.633495            12.744715  \n",
            "min          2.160000             0.000000  \n",
            "25%         32.990000             0.000000  \n",
            "50%         89.000000             0.000000  \n",
            "75%        229.990000             8.490000  \n",
            "max       5449.000000            85.420000  \n"
          ]
        }
      ],
      "source": [
        "numeric_feature = [\"product_rating\", \"total_reviews\", \"purchased_last_month\", \"discounted_price\",\n",
        "                    \"original_price\", \"discount_percentage\"]\n",
        "print(df.describe(include=[np.float64]))"
      ]
    },
    {
      "cell_type": "markdown",
      "id": "uVTWmAuedKNB",
      "metadata": {
        "id": "uVTWmAuedKNB"
      },
      "source": [
        "### Phân tích phân phối dữ liệu\n",
        "\n",
        "Kết quả trực quan hóa phân phối của các biến số cho thấy một số đặc điểm đáng chú ý:\n",
        "\n",
        "- **Product Rating**: Phân phối lệch phải, tập trung chủ yếu ở mức 4–5 sao, cho thấy phần lớn sản phẩm được đánh giá tốt.  \n",
        "- **Total Reviews**: Sau khi log-scale, dữ liệu trở nên gần chuẩn hơn, tuy nhiên vẫn tồn tại một số sản phẩm có số lượng review vượt trội.  \n",
        "- **Purchased Last Month**: Phân phối rất lệch phải, đa số sản phẩm có lượng mua thấp, chỉ một số ít có giá trị cực cao → outlier rõ rệt.  \n",
        "- **Discounted Price** và **Original Price**: Sau log-transform, phân phối giá trở nên ổn định và gần chuẩn hơn, thuận lợi cho huấn luyện mô hình.  \n",
        "- **Discount Percentage**: Phân phối nghiêng mạnh về 0, phần lớn sản phẩm không giảm giá hoặc giảm rất ít, chỉ một số ít có mức giảm cao.  \n",
        "\n",
        "👉 Nhìn chung, dữ liệu có đặc điểm lệch phải và chứa nhiều outlier. Việc sử dụng log-transform giúp làm giảm độ lệch, hỗ trợ mô hình hồi quy hoạt động hiệu quả hơn.\n"
      ]
    },
    {
      "cell_type": "code",
      "execution_count": 9,
      "id": "c7210216",
      "metadata": {
        "colab": {
          "base_uri": "https://localhost:8080/",
          "height": 1000
        },
        "id": "c7210216",
        "outputId": "32468897-1217-4234-fde5-8fe6e38e8cf4"
      },
      "outputs": [
        {
          "data": {
            "image/png": "[encoded data removed]",
            "text/plain": [
              "<Figure size 1500x1000 with 6 Axes>"
            ]
          },
          "metadata": {},
          "output_type": "display_data"
        }
      ],
      "source": [
        "from matplotlib.ticker import FuncFormatter\n",
        "\n",
        "fig, axes = plt.subplots(2, 3, figsize=(15, 10))\n",
        "for i, col in enumerate(numeric_feature):\n",
        "    row, col_idx = i // 3, i % 3\n",
        "    if col == \"product_rating\" or col == \"discount_percentage\":\n",
        "        clean_data = df[col].dropna()\n",
        "        axes[row, col_idx].hist(clean_data, bins=30)\n",
        "    else:\n",
        "        clean_data = np.log10(df[col].dropna() + 1)\n",
        "        axes[row, col_idx].hist(clean_data, bins=30)\n",
        "        axes[row, col_idx].xaxis.set_major_formatter(\n",
        "            FuncFormatter(lambda x, _: f\"$10^{{{int(x)}}}$\")\n",
        "        )\n",
        "\n",
        "    axes[row, col_idx].set_xlabel(col)\n",
        "    axes[row, col_idx].set_title(f'Distribution of {col}')\n",
        "\n",
        "\n",
        "plt.tight_layout()\n",
        "plt.show()"
      ]
    },
    {
      "cell_type": "markdown",
      "id": "YQrtN1LZd1Yy",
      "metadata": {
        "id": "YQrtN1LZd1Yy"
      },
      "source": [
        "### Phân tích Boxplot cho các biến số\n",
        "\n",
        "Kết quả boxplot cho thấy:  \n",
        "\n",
        "- **Product Rating**: Chủ yếu tập trung ở mức 4–5 sao, xuất hiện một số ít sản phẩm bị đánh giá thấp (outlier phía dưới).  \n",
        "- **Total Reviews** và **Purchased Last Month**: Cả hai biến đều có rất nhiều outlier ở phía trên → một số sản phẩm nổi bật có số lượt review và mua vượt xa mặt bằng chung.  \n",
        "- **Discounted Price** và **Original Price**: Phân phối trải rộng, tồn tại outlier ở nhóm sản phẩm giá rất cao.  \n",
        "- **Discount Percentage**: Phần lớn dữ liệu nằm sát mức thấp, nhưng có rất nhiều outlier ở phía trên (giảm giá cao).  \n",
        "\n",
        "👉 **Kết luận**: Dữ liệu chứa nhiều **outlier** rõ rệt, đặc biệt trong các biến liên quan đến số lượt đánh giá, số lượt mua, và mức giảm giá. Đây là yếu tố cần lưu ý trong bước tiền xử lý để đảm bảo mô hình học máy không bị ảnh hưởng tiêu cực bởi các giá trị cực đoan.\n"
      ]
    },
    {
      "cell_type": "code",
      "execution_count": 10,
      "id": "8433992c",
      "metadata": {
        "colab": {
          "base_uri": "https://localhost:8080/",
          "height": 1000
        },
        "id": "8433992c",
        "outputId": "b35eb8d2-b2fb-4eb8-8848-f0251788f454"
      },
      "outputs": [
        {
          "data": {
            "image/png": "[encoded data removed]",
            "text/plain": [
              "<Figure size 1500x1000 with 6 Axes>"
            ]
          },
          "metadata": {},
          "output_type": "display_data"
        }
      ],
      "source": [
        "fig, axes = plt.subplots(2, 3, figsize=(15, 10))\n",
        "for i, col in enumerate(numeric_feature):\n",
        "    row, col_idx = i // 3, i % 3\n",
        "    if col == \"product_rating\" or col == \"discount_percentage\":\n",
        "        clean_data = df[col].dropna()\n",
        "        sns.boxplot(x=clean_data, ax=axes[row, col_idx])\n",
        "    else:\n",
        "        clean_data = np.log10(df[col].dropna() + 1)\n",
        "        sns.boxplot(x=clean_data, ax=axes[row, col_idx])\n",
        "        axes[row, col_idx].xaxis.set_major_formatter(\n",
        "            FuncFormatter(lambda x, _: f\"$10^{{{int(x)}}}$\")\n",
        "        )\n",
        "\n",
        "    axes[row, col_idx].set_xlabel(col)\n",
        "    axes[row, col_idx].set_title(f'Distribution of {col}')\n",
        "\n",
        "plt.tight_layout()\n",
        "plt.show()"
      ]
    },
    {
      "cell_type": "markdown",
      "id": "12a3d84c",
      "metadata": {
        "id": "12a3d84c"
      },
      "source": [
        "## *Thống kê mô tả với biến phân loại*"
      ]
    },
    {
      "cell_type": "code",
      "execution_count": 11,
      "id": "2bc38746",
      "metadata": {
        "colab": {
          "base_uri": "https://localhost:8080/",
          "height": 1000
        },
        "id": "2bc38746",
        "outputId": "ca00b3b6-16a4-472f-8b78-f5b72850ddcc"
      },
      "outputs": [
        {
          "name": "stdout",
          "output_type": "stream",
          "text": [
            "================== Top 10 product_title ==================\n",
            "Unique value: 8808\n",
            "Missing value: 0\n"
          ]
        },
        {
          "data": {
            "text/plain": [
              "product_title\n",
              "Duracell Coppertop 9V Battery, 6 Count (Pack of 1), 9 Volt Battery with Long-lasting Power, All-Purpose Alkaline 9V Battery for Household and Office Devices                                     744\n",
              "Energizer MAX AA Batteries (16 Pack), Double A Alkaline Batteries                                                                                                                                566\n",
              "TRX Training 6 Month On-Demand Membership - Unlimited Access to Expert-Led Workouts, Personalized Programs, Strength, Cardio & Recovery - Train Anytime                                          456\n",
              "KODAK 10.1 Inch WiFi Digital Picture Frame,1280x800 HD IPS Touch Screen, Electronic Smart Photo Frame with 32 GB Memory, Auto-Rotate, Instantly Share Photos/Videos Anywhere                     438\n",
              "Belkin MagSafe-Compatible Charger, 3-in-1 Wireless Charging Station, Qi2-Certified 15W Wireless Charge for Apple iPhone 16 Series, Apple Watch, AirPods w/Non-Slip Base, 40W Included - Black    377\n",
              "RCA 10.1\" WiFi Digital Picture Frame Uhale App Photo Frames Electronic HD IPS Touch Screen Display with 32GB Memory LED Lights, Support USB/SD Card, Slideshow, Instantly Share Photos Videos    371\n",
              "Toshiba 20TB MG10ACA20TE SATA 600GB 20in1 HDD                                                                                                                                                    254\n",
              "Lenovo USI Stylus Pen, Chrome OS Support, 4,096 Levels of Pressure Sensitivity, 150 Days Battery Life, AAAA Battery, Works with Chromebook, GX81B10212,Grey                                      231\n",
              "G.SKILL Trident Z5 Neo RGB Series (AMD Expo) DDR5 RAM 64GB (2X 32GB) 6000MT/s CL26-36-36-96 1.45V Desktop Computer Memory U-DIMM - Black (F5-6000J2636H32GX2-TZ5NR)                              216\n",
              "Sanus Height Adjustable Speaker Stand for Sonos Era 300™ - 17\" Height Adjustment Sonos Stand Includes Carpet Spikes & Rubber Pads - Easy DIY Install Comes w/All Hardware - White                216\n",
              "Name: count, dtype: int64"
            ]
          },
          "metadata": {},
          "output_type": "display_data"
        },
        {
          "name": "stdout",
          "output_type": "stream",
          "text": [
            "================== Top 10 is_best_seller ==================\n",
            "Unique value: 12\n",
            "Missing value: 0\n"
          ]
        },
        {
          "data": {
            "text/plain": [
              "is_best_seller\n",
              "No Badge             40814\n",
              "Amazon's               744\n",
              "Limited time deal      409\n",
              "Best Seller            275\n",
              "Save 30%               125\n",
              "Ends in                 97\n",
              "Save 10%                61\n",
              "Save 18%                57\n",
              "Save 17%                51\n",
              "Save 12%                26\n",
              "Name: count, dtype: int64"
            ]
          },
          "metadata": {},
          "output_type": "display_data"
        },
        {
          "name": "stdout",
          "output_type": "stream",
          "text": [
            "================== Top 10 is_sponsored ==================\n",
            "Unique value: 2\n",
            "Missing value: 0\n"
          ]
        },
        {
          "data": {
            "text/plain": [
              "is_sponsored\n",
              "Organic      35664\n",
              "Sponsored     7011\n",
              "Name: count, dtype: int64"
            ]
          },
          "metadata": {},
          "output_type": "display_data"
        },
        {
          "name": "stdout",
          "output_type": "stream",
          "text": [
            "================== Top 10 has_coupon ==================\n",
            "Unique value: 42\n",
            "Missing value: 0\n"
          ]
        },
        {
          "data": {
            "text/plain": [
              "has_coupon\n",
              "No Coupon                    40727\n",
              "Save $16.00  with coupon       438\n",
              "Save 15%  with coupon          398\n",
              "Save 10%  with coupon          218\n",
              "Save 5%  with coupon           191\n",
              "Save 50%  with coupon          123\n",
              "Save $11.00  with coupon       120\n",
              "Save $100.00  with coupon       97\n",
              "Save 40%  with coupon           96\n",
              "Save $25.00  with coupon        65\n",
              "Name: count, dtype: int64"
            ]
          },
          "metadata": {},
          "output_type": "display_data"
        },
        {
          "name": "stdout",
          "output_type": "stream",
          "text": [
            "================== Top 10 buy_box_availability ==================\n",
            "Unique value: 1\n",
            "Missing value: 14653\n"
          ]
        },
        {
          "data": {
            "text/plain": [
              "buy_box_availability\n",
              "Add to cart    28022\n",
              "Name: count, dtype: int64"
            ]
          },
          "metadata": {},
          "output_type": "display_data"
        },
        {
          "name": "stdout",
          "output_type": "stream",
          "text": [
            "================== Top 10 delivery_date ==================\n",
            "Unique value: 24\n",
            "Missing value: 11983\n"
          ]
        },
        {
          "data": {
            "text/plain": [
              "delivery_date\n",
              "2025-09-04    7862\n",
              "2025-09-01    6334\n",
              "2025-09-03    5238\n",
              "2025-09-11    3723\n",
              "2025-09-02    3401\n",
              "2025-09-09    1511\n",
              "2025-09-05    1001\n",
              "2025-09-08     763\n",
              "2025-08-30     192\n",
              "2025-09-13     127\n",
              "Name: count, dtype: int64"
            ]
          },
          "metadata": {},
          "output_type": "display_data"
        },
        {
          "name": "stdout",
          "output_type": "stream",
          "text": [
            "================== Top 10 sustainability_tags ==================\n",
            "Unique value: 16\n",
            "Missing value: 39267\n"
          ]
        },
        {
          "data": {
            "text/plain": [
              "sustainability_tags\n",
              "Small Business               1341\n",
              "Carbon impact                 769\n",
              "Works with Alexa              425\n",
              "Energy efficiency             262\n",
              "Alexa Built-in                184\n",
              "Manufacturing practices       148\n",
              "Energy efficiency +3 more     121\n",
              "Energy efficiency +1 more      93\n",
              "Forestry practices             18\n",
              "Safer chemicals +2 more        18\n",
              "Name: count, dtype: int64"
            ]
          },
          "metadata": {},
          "output_type": "display_data"
        },
        {
          "name": "stdout",
          "output_type": "stream",
          "text": [
            "================== Top 10 product_image_url ==================\n",
            "Unique value: 8038\n",
            "Missing value: 0\n"
          ]
        },
        {
          "data": {
            "text/plain": [
              "product_image_url\n",
              "https://m.media-amazon.com/images/I/51Xr76m2WLL._AC_UL320_.jpg    1461\n",
              "https://m.media-amazon.com/images/I/41xG8Yh0rlL._AC_UL320_.jpg    1078\n",
              "https://m.media-amazon.com/images/I/61ZSfHGJ2bL._AC_UL320_.jpg     744\n",
              "https://m.media-amazon.com/images/I/91wM+1e9MSL._AC_UL320_.jpg     566\n",
              "https://m.media-amazon.com/images/I/5179luWipKL._AC_UL320_.jpg     515\n",
              "https://m.media-amazon.com/images/I/51rlsc7G2UL._AC_UL320_.jpg     456\n",
              "https://m.media-amazon.com/images/I/716bPrNJ0GL._AC_UL320_.jpg     438\n",
              "https://m.media-amazon.com/images/I/61XBmb46FVL._AC_UL320_.jpg     377\n",
              "https://m.media-amazon.com/images/I/71yebnw2SUL._AC_UL320_.jpg     371\n",
              "https://m.media-amazon.com/images/I/71+ok4zsAxL._AC_UL320_.jpg     254\n",
              "Name: count, dtype: int64"
            ]
          },
          "metadata": {},
          "output_type": "display_data"
        },
        {
          "name": "stdout",
          "output_type": "stream",
          "text": [
            "================== Top 10 product_page_url ==================\n",
            "Unique value: 40606\n",
            "Missing value: 2069\n"
          ]
        },
        {
          "data": {
            "text/plain": [
              "product_page_url\n",
              "https://www.amazon.com/sspa/click?ie=UTF8&spc=MTo4NzEzNDY2NTQ5NDYxNDQ2OjE3NTU4MDAwNjg6c3BfYXRmX2Jyb3dzZTozMDA2NzE0NTMwMTcyMDI6OjA6Og&url=%2FBOYA-BOYALINK-Microphone-Micophone-Cancelling%2Fdp%2FB0DNZB7TQG%2Fref%3Dsr_1_1_sspa%3Fdib%3DeyJ2IjoiMSJ9.avmZlHCQuVOwikquBqYSIjN8SVcyxtkXHQMPt7Zjzkf4TeZzrZfQETMhdWuWgtTrVz8ITKpXLHvZj0fZRjxqgMPYNMitRqeUoeIwdYfc5nnzJ8m0T8HYeedlh3YSOhJQjeHskevMUQWyg6TtoB2tHcHt-edYPsQ6VwFQTI6avsPrgVpFKrto3ff9TDR9BcRyPwM6AiYn-vh7wA5PP9DjZddhCPf7bVPcHMZ6Hwd40dQDWm9_M8R-LcwKY8wnuWRUSplhfYJBvTjAgsb3Y3y88VGpfqY3V8Rd2ge-woBzUMA.yqwi-krmElGgXIMa8kKUPx1XmaXd9lHaAkMkVVpStxo%26dib_tag%3Dse%26qid%3D1755800068%26refinements%3Dp_n_g-101014971069111%253A119653281011%26s%3Delectronics%26sr%3D1-1-spons%26sp_csd%3Dd2lkZ2V0TmFtZT1zcF9hdGZfYnJvd3Nl%26psc%3D1      1\n",
              "https://www.amazon.com/sspa/click?ie=UTF8&spc=MTo4NzEzNDY2NTQ5NDYxNDQ2OjE3NTU4MDAwNjg6c3BfYXRmX2Jyb3dzZTozMDA4NjA2Mzc2NDIxMDI6OjA6Og&url=%2FLISEN-Charging-Lighting-MacBook-Chargers%2Fdp%2FB0DHWZCZDZ%2Fref%3Dsr_1_2_sspa%3Fdib%3DeyJ2IjoiMSJ9.avmZlHCQuVOwikquBqYSIjN8SVcyxtkXHQMPt7Zjzkf4TeZzrZfQETMhdWuWgtTrVz8ITKpXLHvZj0fZRjxqgMPYNMitRqeUoeIwdYfc5nnzJ8m0T8HYeedlh3YSOhJQjeHskevMUQWyg6TtoB2tHcHt-edYPsQ6VwFQTI6avsPrgVpFKrto3ff9TDR9BcRyPwM6AiYn-vh7wA5PP9DjZddhCPf7bVPcHMZ6Hwd40dQDWm9_M8R-LcwKY8wnuWRUSplhfYJBvTjAgsb3Y3y88VGpfqY3V8Rd2ge-woBzUMA.yqwi-krmElGgXIMa8kKUPx1XmaXd9lHaAkMkVVpStxo%26dib_tag%3Dse%26qid%3D1755800068%26refinements%3Dp_n_g-101014971069111%253A119653281011%26s%3Delectronics%26sr%3D1-2-spons%26sp_csd%3Dd2lkZ2V0TmFtZT1zcF9hdGZfYnJvd3Nl%26psc%3D1           1\n",
              "https://www.amazon.com/sspa/click?ie=UTF8&spc=MTo4NzEzNDY2NTQ5NDYxNDQ2OjE3NTU4MDAwNjg6c3BfYXRmX2Jyb3dzZTozMDA4Nzk0NzAxMTk3MDI6OjA6Og&url=%2FDJI-Microphone-Intelligent-Cancelling-Recording%2Fdp%2FB0CFZX734J%2Fref%3Dsr_1_3_sspa%3Fdib%3DeyJ2IjoiMSJ9.avmZlHCQuVOwikquBqYSIjN8SVcyxtkXHQMPt7Zjzkf4TeZzrZfQETMhdWuWgtTrVz8ITKpXLHvZj0fZRjxqgMPYNMitRqeUoeIwdYfc5nnzJ8m0T8HYeedlh3YSOhJQjeHskevMUQWyg6TtoB2tHcHt-edYPsQ6VwFQTI6avsPrgVpFKrto3ff9TDR9BcRyPwM6AiYn-vh7wA5PP9DjZddhCPf7bVPcHMZ6Hwd40dQDWm9_M8R-LcwKY8wnuWRUSplhfYJBvTjAgsb3Y3y88VGpfqY3V8Rd2ge-woBzUMA.yqwi-krmElGgXIMa8kKUPx1XmaXd9lHaAkMkVVpStxo%26dib_tag%3Dse%26qid%3D1755800068%26refinements%3Dp_n_g-101014971069111%253A119653281011%26s%3Delectronics%26sr%3D1-3-spons%26sp_csd%3Dd2lkZ2V0TmFtZT1zcF9hdGZfYnJvd3Nl%26psc%3D1    1\n",
              "https://www.amazon.com/Apple-Cancellation-Transparency-Personalized-High-Fidelity/dp/B0D1XD1ZV3/ref=sr_1_4?dib=eyJ2IjoiMSJ9.avmZlHCQuVOwikquBqYSIjN8SVcyxtkXHQMPt7Zjzkf4TeZzrZfQETMhdWuWgtTrVz8ITKpXLHvZj0fZRjxqgMPYNMitRqeUoeIwdYfc5nnzJ8m0T8HYeedlh3YSOhJQjeHskevMUQWyg6TtoB2tHcHt-edYPsQ6VwFQTI6avsPrgVpFKrto3ff9TDR9BcRyPwM6AiYn-vh7wA5PP9DjZddhCPf7bVPcHMZ6Hwd40dQDWm9_M8R-LcwKY8wnuWRUSplhfYJBvTjAgsb3Y3y88VGpfqY3V8Rd2ge-woBzUMA.yqwi-krmElGgXIMa8kKUPx1XmaXd9lHaAkMkVVpStxo&dib_tag=se&qid=1755800068&refinements=p_n_g-101014971069111%3A119653281011&s=electronics&sr=1-4                                                                                                                                                                                                                 1\n",
              "https://www.amazon.com/Apple-MX542LL-A-AirTag-Pack/dp/B0D54JZTHY/ref=sr_1_5?dib=eyJ2IjoiMSJ9.avmZlHCQuVOwikquBqYSIjN8SVcyxtkXHQMPt7Zjzkf4TeZzrZfQETMhdWuWgtTrVz8ITKpXLHvZj0fZRjxqgMPYNMitRqeUoeIwdYfc5nnzJ8m0T8HYeedlh3YSOhJQjeHskevMUQWyg6TtoB2tHcHt-edYPsQ6VwFQTI6avsPrgVpFKrto3ff9TDR9BcRyPwM6AiYn-vh7wA5PP9DjZddhCPf7bVPcHMZ6Hwd40dQDWm9_M8R-LcwKY8wnuWRUSplhfYJBvTjAgsb3Y3y88VGpfqY3V8Rd2ge-woBzUMA.yqwi-krmElGgXIMa8kKUPx1XmaXd9lHaAkMkVVpStxo&dib_tag=se&qid=1755800068&refinements=p_n_g-101014971069111%3A119653281011&s=electronics&sr=1-5                                                                                                                                                                                                                                                1\n",
              "https://www.amazon.com/Texas-Instruments-TI-84-Graphing-Calculator/dp/B00TFYYWQA/ref=sr_1_6?dib=eyJ2IjoiMSJ9.avmZlHCQuVOwikquBqYSIjN8SVcyxtkXHQMPt7Zjzkf4TeZzrZfQETMhdWuWgtTrVz8ITKpXLHvZj0fZRjxqgMPYNMitRqeUoeIwdYfc5nnzJ8m0T8HYeedlh3YSOhJQjeHskevMUQWyg6TtoB2tHcHt-edYPsQ6VwFQTI6avsPrgVpFKrto3ff9TDR9BcRyPwM6AiYn-vh7wA5PP9DjZddhCPf7bVPcHMZ6Hwd40dQDWm9_M8R-LcwKY8wnuWRUSplhfYJBvTjAgsb3Y3y88VGpfqY3V8Rd2ge-woBzUMA.yqwi-krmElGgXIMa8kKUPx1XmaXd9lHaAkMkVVpStxo&dib_tag=se&qid=1755800068&refinements=p_n_g-101014971069111%3A119653281011&s=electronics&sr=1-6                                                                                                                                                                                                                                1\n",
              "https://www.amazon.com/Apple-Bluetooth-Headphones-Personalized-Effortless/dp/B0DGHMNQ5Z/ref=sr_1_7?dib=eyJ2IjoiMSJ9.avmZlHCQuVOwikquBqYSIjN8SVcyxtkXHQMPt7Zjzkf4TeZzrZfQETMhdWuWgtTrVz8ITKpXLHvZj0fZRjxqgMPYNMitRqeUoeIwdYfc5nnzJ8m0T8HYeedlh3YSOhJQjeHskevMUQWyg6TtoB2tHcHt-edYPsQ6VwFQTI6avsPrgVpFKrto3ff9TDR9BcRyPwM6AiYn-vh7wA5PP9DjZddhCPf7bVPcHMZ6Hwd40dQDWm9_M8R-LcwKY8wnuWRUSplhfYJBvTjAgsb3Y3y88VGpfqY3V8Rd2ge-woBzUMA.yqwi-krmElGgXIMa8kKUPx1XmaXd9lHaAkMkVVpStxo&dib_tag=se&qid=1755800068&refinements=p_n_g-101014971069111%3A119653281011&s=electronics&sr=1-7                                                                                                                                                                                                                         1\n",
              "https://www.amazon.com/Apple-MX532LL-A-AirTag/dp/B0CWXNS552/ref=sr_1_8?dib=eyJ2IjoiMSJ9.avmZlHCQuVOwikquBqYSIjN8SVcyxtkXHQMPt7Zjzkf4TeZzrZfQETMhdWuWgtTrVz8ITKpXLHvZj0fZRjxqgMPYNMitRqeUoeIwdYfc5nnzJ8m0T8HYeedlh3YSOhJQjeHskevMUQWyg6TtoB2tHcHt-edYPsQ6VwFQTI6avsPrgVpFKrto3ff9TDR9BcRyPwM6AiYn-vh7wA5PP9DjZddhCPf7bVPcHMZ6Hwd40dQDWm9_M8R-LcwKY8wnuWRUSplhfYJBvTjAgsb3Y3y88VGpfqY3V8Rd2ge-woBzUMA.yqwi-krmElGgXIMa8kKUPx1XmaXd9lHaAkMkVVpStxo&dib_tag=se&qid=1755800068&refinements=p_n_g-101014971069111%3A119653281011&s=electronics&sr=1-8                                                                                                                                                                                                                                                     1\n",
              "https://www.amazon.com/Asurion-Complete-Protect/dp/B07RZ3LSHM/ref=sr_1_9?dib=eyJ2IjoiMSJ9.avmZlHCQuVOwikquBqYSIjN8SVcyxtkXHQMPt7Zjzkf4TeZzrZfQETMhdWuWgtTrVz8ITKpXLHvZj0fZRjxqgMPYNMitRqeUoeIwdYfc5nnzJ8m0T8HYeedlh3YSOhJQjeHskevMUQWyg6TtoB2tHcHt-edYPsQ6VwFQTI6avsPrgVpFKrto3ff9TDR9BcRyPwM6AiYn-vh7wA5PP9DjZddhCPf7bVPcHMZ6Hwd40dQDWm9_M8R-LcwKY8wnuWRUSplhfYJBvTjAgsb3Y3y88VGpfqY3V8Rd2ge-woBzUMA.yqwi-krmElGgXIMa8kKUPx1XmaXd9lHaAkMkVVpStxo&dib_tag=se&qid=1755800068&refinements=p_n_g-101014971069111%3A119653281011&s=electronics&sr=1-9                                                                                                                                                                                                                                                   1\n",
              "https://www.amazon.com/Apple-iPad-11-inch-Display-All-Day/dp/B0DZ75TN5F/ref=sr_1_10?dib=eyJ2IjoiMSJ9.avmZlHCQuVOwikquBqYSIjN8SVcyxtkXHQMPt7Zjzkf4TeZzrZfQETMhdWuWgtTrVz8ITKpXLHvZj0fZRjxqgMPYNMitRqeUoeIwdYfc5nnzJ8m0T8HYeedlh3YSOhJQjeHskevMUQWyg6TtoB2tHcHt-edYPsQ6VwFQTI6avsPrgVpFKrto3ff9TDR9BcRyPwM6AiYn-vh7wA5PP9DjZddhCPf7bVPcHMZ6Hwd40dQDWm9_M8R-LcwKY8wnuWRUSplhfYJBvTjAgsb3Y3y88VGpfqY3V8Rd2ge-woBzUMA.yqwi-krmElGgXIMa8kKUPx1XmaXd9lHaAkMkVVpStxo&dib_tag=se&qid=1755800068&refinements=p_n_g-101014971069111%3A119653281011&s=electronics&sr=1-10                                                                                                                                                                                                                                       1\n",
              "Name: count, dtype: int64"
            ]
          },
          "metadata": {},
          "output_type": "display_data"
        },
        {
          "name": "stdout",
          "output_type": "stream",
          "text": [
            "================== Top 10 data_collected_at ==================\n",
            "Unique value: 1559\n",
            "Missing value: 0\n"
          ]
        },
        {
          "data": {
            "text/plain": [
              "data_collected_at\n",
              "2025-08-21 11:15:31    33\n",
              "2025-08-21 11:15:58    33\n",
              "2025-08-21 11:14:29    33\n",
              "2025-08-21 11:16:09    33\n",
              "2025-08-30 19:53:37    33\n",
              "2025-08-30 19:54:27    33\n",
              "2025-08-30 19:54:52    33\n",
              "2025-08-30 00:39:26    33\n",
              "2025-08-30 00:39:40    33\n",
              "2025-08-30 00:40:06    33\n",
              "Name: count, dtype: int64"
            ]
          },
          "metadata": {},
          "output_type": "display_data"
        },
        {
          "name": "stdout",
          "output_type": "stream",
          "text": [
            "================== Top 10 product_category ==================\n",
            "Unique value: 15\n",
            "Missing value: 0\n"
          ]
        },
        {
          "data": {
            "text/plain": [
              "product_category\n",
              "Other Electronics    8755\n",
              "Laptops              8693\n",
              "Phones               6563\n",
              "Cameras              3677\n",
              "Power & Batteries    2877\n",
              "TV & Display         2630\n",
              "Chargers & Cables    1833\n",
              "Storage              1630\n",
              "Speakers             1345\n",
              "Networking           1070\n",
              "Name: count, dtype: int64"
            ]
          },
          "metadata": {},
          "output_type": "display_data"
        }
      ],
      "source": [
        "categorical_feature = [\"product_title\", \"is_best_seller\", \"is_sponsored\", \"has_coupon\", \"buy_box_availability\", \"delivery_date\",\n",
        "                       \"sustainability_tags\", \"product_image_url\", \"product_page_url\", \"data_collected_at\", \"product_category\"]\n",
        "\n",
        "for col in categorical_feature:\n",
        "    print(f\"================== Top 10 {col} ==================\")\n",
        "    print(\"Unique value:\", df[col].nunique())\n",
        "    print(\"Missing value:\", df[col].isna().sum())\n",
        "    display(df[col].value_counts().head(10))"
      ]
    },
    {
      "cell_type": "markdown",
      "id": "0671ee32",
      "metadata": {
        "id": "0671ee32"
      },
      "source": [
        "# **Tiền xử lý dữ liệu**"
      ]
    },
    {
      "cell_type": "markdown",
      "id": "b47d3a46",
      "metadata": {},
      "source": [
        "Kể từ phần tiền xử lý dữ liệu, nhóm sẽ xây dựng pipeline cho bộ dữ liệu bao gồm các bước như xử lý missing, scaling, xử lý pca, huấn luyện mô hình.... Pipeline lớn sẽ bao gồm các pipeline nhỏ hơn đại diện cho một bước xử lý nhỏ, config mặc định (None) chính là config được nhóm lựa chọn và giải thích ở các bước xử lý đó."
      ]
    },
    {
      "cell_type": "markdown",
      "id": "25983dc4",
      "metadata": {},
      "source": [
        "## *Lựa chọn các cột cần thiết*\n",
        "Sau khi khảo sát sơ bộ, nhóm sẽ tiến hành bước tiền xử lý dữ liệu để đảm bảo chất lượng và tính phù hợp cho mô hình dự đoán. Nhận thấy một số đặc trưng ban đầu không cần thiết hoặc có quá nhiều giá trị thiếu, nhóm quyết định loại bỏ chúng và chỉ giữ lại các đặc trưng quan trọng nhất bao gồm: `product_rating`, `total_reviews`, `purchased_last_month`, `discounted_price`, `original_price`, `is_sponsored` và `product_category`.\\\n",
        "Ngoài ra, vì mục tiêu là `discounted_price` nên nhóm quyết định loại bỏ biến `discount_percentage` vì `discounted_price` = `original_price` * `discount_percentage`."
      ]
    },
    {
      "cell_type": "code",
      "execution_count": 12,
      "id": "f8678fba",
      "metadata": {},
      "outputs": [],
      "source": [
        "use_cols = [\"product_rating\", \"total_reviews\", \"purchased_last_month\", \"discounted_price\", \"original_price\",\n",
        "        \"is_sponsored\", \"product_category\"]\n",
        "\n",
        "feature_cols = [\"product_rating\", \"total_reviews\", \"purchased_last_month\", \"original_price\",\n",
        "        \"is_sponsored\", \"product_category\"]\n",
        "\n",
        "data = df[use_cols]"
      ]
    },
    {
      "cell_type": "markdown",
      "id": "daec5b4f",
      "metadata": {},
      "source": [
        "## *Phân chia dữ liệu huấn luyện và kiểm tra*\n",
        "Sau khi hoàn thành các bước tiền xử lý, nhóm đã tiến hành phân chia bộ dữ liệu thành hai phần: tập dữ liệu huấn luyện (training set) và tập dữ liệu kiểm tra (testing set). Đây là một bước quan trọng để đánh giá hiệu suất của mô hình một cách khách quan.\n",
        "- Nhóm xác định biến mục tiêu (target) là discounted_price, đây là giá sản phẩm mà mô hình cần dự đoán.\n",
        "- Toàn bộ các đặc trưng còn lại được gán vào biến độc lập X, trong khi biến mục tiêu được gán vào biến phụ thuộc y.\n",
        "- Sử dụng hàm train_test_split từ thư viện sklearn.model_selection, nhóm phân chia dữ liệu theo tỷ lệ 80% cho tập huấn luyện và 20% cho tập kiểm tra.\n",
        "- Để đảm bảo tính nhất quán và khả năng tái lập kết quả, nhóm đã sử dụng random_state=42."
      ]
    },
    {
      "cell_type": "code",
      "execution_count": 13,
      "id": "c985ffc2",
      "metadata": {},
      "outputs": [
        {
          "name": "stdout",
          "output_type": "stream",
          "text": [
            "X_train data Shape: (24182, 6)\n",
            "X_test data Shape: (6046, 6)\n",
            "<class 'pandas.core.frame.DataFrame'>\n"
          ]
        }
      ],
      "source": [
        "target = \"discounted_price\"\n",
        "data = data.dropna() # Drop NA in target column\n",
        "\n",
        "X = data.drop(columns=target)\n",
        "y = data[target]\n",
        "X_train, X_test, y_train, y_test = train_test_split(X, y, test_size=0.2, random_state=42)\n",
        "\n",
        "print(f\"X_train data Shape: {X_train.shape}\")\n",
        "print(f\"X_test data Shape: {X_test.shape}\")\n",
        "\n",
        "y_train = y_train.to_frame()\n",
        "y_test = y_test.to_frame()\n",
        "print(type(y_test))"
      ]
    },
    {
      "cell_type": "code",
      "execution_count": 14,
      "id": "ab6bebec",
      "metadata": {},
      "outputs": [
        {
          "data": {
            "text/html": [
              "<div>\n",
              "<style scoped>\n",
              "    .dataframe tbody tr th:only-of-type {\n",
              "        vertical-align: middle;\n",
              "    }\n",
              "\n",
              "    .dataframe tbody tr th {\n",
              "        vertical-align: top;\n",
              "    }\n",
              "\n",
              "    .dataframe thead th {\n",
              "        text-align: right;\n",
              "    }\n",
              "</style>\n",
              "<table border=\"1\" class=\"dataframe\">\n",
              "  <thead>\n",
              "    <tr style=\"text-align: right;\">\n",
              "      <th></th>\n",
              "      <th>product_rating</th>\n",
              "      <th>total_reviews</th>\n",
              "      <th>purchased_last_month</th>\n",
              "      <th>original_price</th>\n",
              "      <th>is_sponsored</th>\n",
              "      <th>product_category</th>\n",
              "    </tr>\n",
              "  </thead>\n",
              "  <tbody>\n",
              "    <tr>\n",
              "      <th>16916</th>\n",
              "      <td>4.3</td>\n",
              "      <td>381.0</td>\n",
              "      <td>100.0</td>\n",
              "      <td>66.01</td>\n",
              "      <td>Organic</td>\n",
              "      <td>Cameras</td>\n",
              "    </tr>\n",
              "    <tr>\n",
              "      <th>9654</th>\n",
              "      <td>4.4</td>\n",
              "      <td>1146.0</td>\n",
              "      <td>300.0</td>\n",
              "      <td>18.95</td>\n",
              "      <td>Organic</td>\n",
              "      <td>Phones</td>\n",
              "    </tr>\n",
              "    <tr>\n",
              "      <th>36420</th>\n",
              "      <td>3.8</td>\n",
              "      <td>44.0</td>\n",
              "      <td>100.0</td>\n",
              "      <td>199.00</td>\n",
              "      <td>Organic</td>\n",
              "      <td>Chargers &amp; Cables</td>\n",
              "    </tr>\n",
              "    <tr>\n",
              "      <th>1985</th>\n",
              "      <td>4.3</td>\n",
              "      <td>196.0</td>\n",
              "      <td>200.0</td>\n",
              "      <td>129.95</td>\n",
              "      <td>Sponsored</td>\n",
              "      <td>Phones</td>\n",
              "    </tr>\n",
              "    <tr>\n",
              "      <th>39079</th>\n",
              "      <td>4.7</td>\n",
              "      <td>182.0</td>\n",
              "      <td>200.0</td>\n",
              "      <td>101.16</td>\n",
              "      <td>Organic</td>\n",
              "      <td>Laptops</td>\n",
              "    </tr>\n",
              "    <tr>\n",
              "      <th>...</th>\n",
              "      <td>...</td>\n",
              "      <td>...</td>\n",
              "      <td>...</td>\n",
              "      <td>...</td>\n",
              "      <td>...</td>\n",
              "      <td>...</td>\n",
              "    </tr>\n",
              "    <tr>\n",
              "      <th>42006</th>\n",
              "      <td>4.0</td>\n",
              "      <td>1541.0</td>\n",
              "      <td>100.0</td>\n",
              "      <td>239.99</td>\n",
              "      <td>Organic</td>\n",
              "      <td>Printers &amp; Scanners</td>\n",
              "    </tr>\n",
              "    <tr>\n",
              "      <th>6901</th>\n",
              "      <td>4.2</td>\n",
              "      <td>21.0</td>\n",
              "      <td>100.0</td>\n",
              "      <td>162.85</td>\n",
              "      <td>Organic</td>\n",
              "      <td>Cameras</td>\n",
              "    </tr>\n",
              "    <tr>\n",
              "      <th>1037</th>\n",
              "      <td>4.6</td>\n",
              "      <td>14962.0</td>\n",
              "      <td>5000.0</td>\n",
              "      <td>49.99</td>\n",
              "      <td>Organic</td>\n",
              "      <td>Phones</td>\n",
              "    </tr>\n",
              "    <tr>\n",
              "      <th>21954</th>\n",
              "      <td>4.6</td>\n",
              "      <td>1138.0</td>\n",
              "      <td>100.0</td>\n",
              "      <td>49.95</td>\n",
              "      <td>Organic</td>\n",
              "      <td>Cameras</td>\n",
              "    </tr>\n",
              "    <tr>\n",
              "      <th>33596</th>\n",
              "      <td>4.4</td>\n",
              "      <td>3548.0</td>\n",
              "      <td>1000.0</td>\n",
              "      <td>119.99</td>\n",
              "      <td>Sponsored</td>\n",
              "      <td>Phones</td>\n",
              "    </tr>\n",
              "  </tbody>\n",
              "</table>\n",
              "<p>24182 rows × 6 columns</p>\n",
              "</div>"
            ],
            "text/plain": [
              "       product_rating  total_reviews  purchased_last_month  original_price  \\\n",
              "16916             4.3          381.0                 100.0           66.01   \n",
              "9654              4.4         1146.0                 300.0           18.95   \n",
              "36420             3.8           44.0                 100.0          199.00   \n",
              "1985              4.3          196.0                 200.0          129.95   \n",
              "39079             4.7          182.0                 200.0          101.16   \n",
              "...               ...            ...                   ...             ...   \n",
              "42006             4.0         1541.0                 100.0          239.99   \n",
              "6901              4.2           21.0                 100.0          162.85   \n",
              "1037              4.6        14962.0                5000.0           49.99   \n",
              "21954             4.6         1138.0                 100.0           49.95   \n",
              "33596             4.4         3548.0                1000.0          119.99   \n",
              "\n",
              "      is_sponsored     product_category  \n",
              "16916      Organic              Cameras  \n",
              "9654       Organic               Phones  \n",
              "36420      Organic    Chargers & Cables  \n",
              "1985     Sponsored               Phones  \n",
              "39079      Organic              Laptops  \n",
              "...            ...                  ...  \n",
              "42006      Organic  Printers & Scanners  \n",
              "6901       Organic              Cameras  \n",
              "1037       Organic               Phones  \n",
              "21954      Organic              Cameras  \n",
              "33596    Sponsored               Phones  \n",
              "\n",
              "[24182 rows x 6 columns]"
            ]
          },
          "execution_count": 14,
          "metadata": {},
          "output_type": "execute_result"
        }
      ],
      "source": [
        "X_train"
      ]
    },
    {
      "cell_type": "markdown",
      "id": "0f974634",
      "metadata": {},
      "source": [
        "Kết quả của quá trình phân chia như sau:\n",
        "- Tập dữ liệu huấn luyện X_train có 32,490 mẫu và 6 đặc trưng.\n",
        "- Tập dữ liệu kiểm tra X_test có 8,123 mẫu và 6 đặc trưng.\n",
        "\n",
        "Việc phân chia này sẽ giúp nhóm huấn luyện mô hình trên một phần dữ liệu và sau đó kiểm tra hiệu quả của mô hình trên một phần dữ liệu hoàn toàn mới mà mô hình chưa từng thấy."
      ]
    },
    {
      "cell_type": "markdown",
      "id": "f6bf5717",
      "metadata": {
        "id": "f6bf5717"
      },
      "source": [
        "## *Xử lý missing value*\n",
        "Để xử lý vấn đề giá trị thiếu (NA), nhóm áp dụng phương pháp loại bỏ các hàng có chứa giá trị NA (dropna()) trên bộ dữ liệu đã được chọn lọc. Kết quả cho thấy, số lượng mẫu trong bộ dữ liệu đã giảm từ 40,613 xuống còn 30,228 mẫu. Mặc dù việc này dẫn đến sự mất mát khoảng 26% dữ liệu, nhưng nó đảm bảo rằng tất cả các mẫu còn lại đều có đủ thông tin cần thiết và đáng tin cậy cho các đặc trưng chính, từ đó giúp nâng cao độ chính xác của mô hình mà không cần phải sử dụng các phương pháp điền dữ liệu (imputation) phức tạp. Bộ dữ liệu đã được làm sạch giờ đây sẵn sàng cho các bước phân tích và xây dựng mô hình tiếp theo."
      ]
    },
    {
      "cell_type": "code",
      "execution_count": 15,
      "id": "8cddb3e6",
      "metadata": {},
      "outputs": [],
      "source": [
        "from sklearn.base import BaseEstimator, TransformerMixin\n",
        "from sklearn.utils._set_output import _SetOutputMixin\n",
        "\n",
        "class DropNA(TransformerMixin, BaseEstimator):\n",
        "    def __init__(self, subset=None, how=\"any\", thresh=None):\n",
        "        self.subset = subset\n",
        "        self.how = how\n",
        "        self.thresh = thresh\n",
        "        \n",
        "    def _more_tags(self):\n",
        "        return {\"preserves_dataframe\": True}\n",
        "\n",
        "    def fit(self, X, y=None):\n",
        "        return self\n",
        "\n",
        "    def transform(self, X):\n",
        "        return X.dropna(subset=self.subset, how=self.how)\n",
        "    \n",
        "    def set_output(self, *, transform = None):\n",
        "        return self\n",
        "\n",
        "\n",
        "\n",
        "def make_missing_pipeline(config=None):\n",
        "    \"\"\"\n",
        "    config: dict {\"name\": (impute, [list_of_columns])}. Default = None = dropna\n",
        "    Example:\n",
        "    config = {\n",
        "        \"impute\": (SimpleImputer(strategy=\"mean\"), None)\n",
        "    }\n",
        "    \"\"\"\n",
        "    SimpleImputer(strategy=\"mean\")\n",
        "    if config == None:\n",
        "        config = {\"all\": (DropNA(), feature_cols)}\n",
        "    transformer = [(name, impute, cols) for name, (impute, cols) in config.items()]\n",
        "    return Pipeline(steps=[\n",
        "        (\"missing_value\", ColumnTransformer(transformers=transformer))\n",
        "    ])"
      ]
    },
    {
      "cell_type": "code",
      "execution_count": 16,
      "id": "1f061ee1",
      "metadata": {},
      "outputs": [],
      "source": [
        "# Default missing value pipeline\n",
        "# missing_value_pipeline = make_missing_pipeline()"
      ]
    },
    {
      "cell_type": "markdown",
      "id": "6d957b69",
      "metadata": {
        "id": "6d957b69"
      },
      "source": [
        "## *Scale cho dữ liệu Numeric*\n",
        "Để đảm bảo các đặc trưng số có cùng một thang đo và cải thiện hiệu suất của mô hình, nhóm đã tiến hành chuẩn hóa dữ liệu. Quá trình này giúp các thuật toán học máy, đặc biệt là các mô hình dựa trên khoảng cách như K-Means, K-NN, hoặc thuật toán Gradient Descent, hội tụ nhanh hơn và chính xác hơn.\n",
        "Nhóm đã áp dụng hai phương pháp chuẩn hóa khác nhau dựa trên phân bố của từng đặc trưng:\n",
        "- Sử dụng MinMaxScaler: Áp dụng cho các đặc trưng có phân bố tương đối đều và không có các giá trị ngoại lai đáng kể, bao gồm product_rating và discount_percentage. Phương pháp này sẽ co giãn các giá trị về trong khoảng [0, 1].\n",
        "- Sử dụng RobustScaler: Áp dụng cho các đặc trưng có khả năng chứa giá trị ngoại lai, bao gồm total_reviews, purchased_last_month và original_price. Trước khi chuẩn hóa, nhóm đã áp dụng biến đổi logarit (np.log1p) để giảm độ lệch của dữ liệu, sau đó sử dụng RobustScaler để chuẩn hóa dữ liệu dựa trên khoảng tứ phân vị, giúp giảm thiểu tác động của các giá trị ngoại lai.\n",
        "- Chuẩn hóa biến mục tiêu: Biến mục tiêu discounted_price cũng được chuẩn hóa bằng RobustScaler sau khi áp dụng biến đổi logarit. Điều này giúp mô hình dự đoán các giá trị trong một phạm vi nhỏ hơn, cải thiện hiệu quả học tập và tránh bị ảnh hưởng bởi các giá trị giá sản phẩm quá cao.\n",
        "\n",
        "Sau khi chuẩn hóa, tất cả các đặc trưng số đã có cùng một thang đo và sẵn sàng để đưa vào các thuật toán học máy."
      ]
    },
    {
      "cell_type": "code",
      "execution_count": 17,
      "id": "6c920dc9",
      "metadata": {},
      "outputs": [],
      "source": [
        "class Log1pRobustScaler(BaseEstimator, TransformerMixin):\n",
        "    def __init__(self):\n",
        "        self.scaler = RobustScaler()\n",
        "        self.columns_ = None\n",
        "        self.index_ = None\n",
        "    \n",
        "    def fit(self, X, y=None):\n",
        "        if isinstance(X, pd.DataFrame):\n",
        "            self.columns_ = X.columns\n",
        "            self.index_ = X.index\n",
        "        X_log = np.log1p(X)\n",
        "        self.scaler.fit(X_log)\n",
        "        return self\n",
        "    \n",
        "    def transform(self, X):\n",
        "        X_log = np.log1p(X)\n",
        "        X_scaled = self.scaler.transform(X_log)\n",
        "        if isinstance(X, pd.DataFrame):\n",
        "            return pd.DataFrame(X_scaled, columns=self.columns_, index=X.index)\n",
        "        return X_scaled\n",
        "    \n",
        "    def inverse_transform(self, X):\n",
        "        X_inv = self.scaler.inverse_transform(X)\n",
        "        X_orig = np.expm1(X_inv)\n",
        "        if self.columns_ is not None:\n",
        "            return pd.DataFrame(X_orig, columns=self.columns_)\n",
        "        return X_orig\n",
        "\n",
        "\n",
        "\n",
        "def make_scaling_pipeline(config=None):\n",
        "    \"\"\"\n",
        "    config: dict {\"name\": (scaler, [list_of_columns])}.\n",
        "    Example:\n",
        "    config = {\n",
        "        \"scaler\": (StandardScaler(), None)\n",
        "    }\n",
        "    \"\"\"\n",
        "    if config == None:\n",
        "        config = {\n",
        "            \"minmax_scaler\": (MinMaxScaler(), [\"product_rating\"]),\n",
        "            \"robust_scaler\": (RobustScaler(), [\"total_reviews\", \"purchased_last_month\", \"original_price\"])\n",
        "        }\n",
        "    return [(name, impute, cols) for name, (impute, cols) in config.items()]\n",
        "    return Pipeline(steps=[\n",
        "        (\"scaling_pipeline\", ColumnTransformer(transformers=transformer))\n",
        "    ])"
      ]
    },
    {
      "cell_type": "code",
      "execution_count": 18,
      "id": "41f0e0dd",
      "metadata": {},
      "outputs": [],
      "source": [
        "# Default scaling pipeline\n",
        "scaling_pipeline = make_scaling_pipeline()"
      ]
    },
    {
      "cell_type": "markdown",
      "id": "77f32ea6",
      "metadata": {
        "id": "77f32ea6"
      },
      "source": [
        "## *Encoding cho dữ liệu Categorical*\n",
        "Để các mô hình học máy có thể xử lý các đặc trưng phân loại, nhóm đã tiến hành mã hóa chúng sang dạng số. Nhóm đã sử dụng phương pháp One-Hot Encoding cho các cột is_sponsored và product_category.\n",
        "\n",
        "Phương pháp One-Hot Encoding giúp chuyển đổi mỗi giá trị duy nhất trong một cột phân loại thành một cột nhị phân mới (với giá trị 0 hoặc 1). Điều này đảm bảo rằng mô hình không gán một thứ tự sai lầm cho các danh mục, vốn là điều có thể xảy ra với các phương pháp mã hóa đơn giản hơn. Cụ thể:\n",
        "- Đối với cột is_sponsored: Cột này đã được chuyển thành hai cột mới là is_sponsored_Organic và is_sponsored_Sponsored.\n",
        "- Đối với cột product_category: Vì có 15 danh mục sản phẩm, cột này đã được chuyển thành 15 cột mới, mỗi cột đại diện cho một danh mục cụ thể (ví dụ: product_category_Cameras, product_category_Laptops).\n",
        "\n",
        "Kết quả sau khi mã hóa, số lượng đặc trưng trong tập dữ liệu huấn luyện đã tăng từ 7 lên 22 cột. Bộ dữ liệu mới này đã sẵn sàng để được sử dụng để xây dựng và huấn luyện mô hình dự đoán giá sản phẩm."
      ]
    },
    {
      "cell_type": "code",
      "execution_count": 19,
      "id": "72e6779b",
      "metadata": {},
      "outputs": [],
      "source": [
        "def make_encoding_pipeline(config=None):\n",
        "    \"\"\"\n",
        "    config: dict {\"name\": (encoder, [list_of_columns])}.\n",
        "    Example:\n",
        "    config = {\n",
        "        \"encoder\": (OrdinalEncoder(), None)\n",
        "    }\n",
        "    \"\"\"\n",
        "    if config == None:\n",
        "        config = {\n",
        "            \"onehot_encoder\": (OrdinalEncoder(), [\"is_sponsored\"]),\n",
        "            \"onehot_encoder2\": (OrdinalEncoder(), [\"product_category\"])\n",
        "        }\n",
        "    return [(name, impute, cols) for name, (impute, cols) in config.items()]\n",
        "    return Pipeline(steps=[\n",
        "        (\"encoding_pipeline\", ColumnTransformer(transformers=transformer))\n",
        "    ])"
      ]
    },
    {
      "cell_type": "code",
      "execution_count": 20,
      "id": "1350a651",
      "metadata": {},
      "outputs": [],
      "source": [
        "# Default encoding pipeline\n",
        "encoding_pipeline = make_encoding_pipeline()"
      ]
    },
    {
      "cell_type": "code",
      "execution_count": 21,
      "id": "cd274c19",
      "metadata": {},
      "outputs": [],
      "source": [
        "# Preprocessing pipeline\n",
        "preprocessing_pipeline = Pipeline(steps=[\n",
        "#    (\"missing\", missing_value_pipeline),\n",
        "    (\"scaling\", scaling_pipeline),\n",
        "    (\"encoding\", encoding_pipeline)\n",
        "])\n",
        "\n",
        "preprocessing_pipeline = ColumnTransformer(\n",
        "    transformers=scaling_pipeline + encoding_pipeline,\n",
        "    remainder=\"passthrough\"\n",
        ")"
      ]
    },
    {
      "cell_type": "markdown",
      "id": "922442c7",
      "metadata": {
        "id": "922442c7"
      },
      "source": [
        "# **Huấn luyện mô hình**\n",
        "Sau khi đã tiền xử lý và chuẩn bị dữ liệu, nhóm tiến hành huấn luyện một số mô hình học máy để tìm ra thuật toán phù hợp nhất cho bài toán dự đoán giá sản phẩm. Nhóm đã lựa chọn và thử nghiệm các mô hình sau: Linear Regression, RandomForestRegressor, SVR và MLPRegressor.\n",
        "\n",
        "- Quá trình Huấn luyện:\n",
        "    - Với mỗi mô hình, nhóm đã huấn luyện trên tập dữ liệu huấn luyện (X_train, y_train) đã được chuẩn hóa.\n",
        "    - Sau khi huấn luyện, mô hình được sử dụng để dự đoán giá sản phẩm trên tập dữ liệu kiểm tra X_test.\n",
        "    - Do biến mục tiêu y_test đã được chuẩn hóa và biến đổi logarit trước đó, nhóm đã phải thực hiện biến đổi ngược (y_scaler.inverse_transform và np.expm1) để đưa các giá trị dự đoán về thang đo ban đầu, giúp việc đánh giá trở nên ý nghĩa hơn.\n",
        "- Đánh giá Hiệu suất:\n",
        "    - Để đánh giá hiệu suất của mỗi mô hình, nhóm sử dụng ba chỉ số phổ biến cho bài toán hồi quy:\n",
        "      - Mean Squared Error (MSE): Đo lường mức độ sai lệch trung bình của các dự đoán. Giá trị càng thấp càng tốt.\n",
        "\n",
        "      - Mean Absolute Error (MAE): Đo lường độ sai lệch tuyệt đối trung bình. Giá trị này dễ hiểu hơn MSE vì nó cùng đơn vị với biến mục tiêu. Giá trị càng thấp càng tốt.\n",
        "      - R-squared (R2): Thể hiện mức độ phù hợp của mô hình với dữ liệu, với giá trị càng gần 1 càng tốt."
      ]
    },
    {
      "cell_type": "code",
      "execution_count": 22,
      "id": "b2da3aa2",
      "metadata": {},
      "outputs": [],
      "source": [
        "# Scaling y_train for better training\n",
        "y_scaler = RobustScaler()\n",
        "# y_train = pd.DataFrame(y_scaler.fit_transform(pd.DataFrame(np.log1p(y_train.values.reshape(-1, 1)))))"
      ]
    },
    {
      "cell_type": "code",
      "execution_count": 23,
      "id": "7e37f201",
      "metadata": {},
      "outputs": [
        {
          "name": "stdout",
          "output_type": "stream",
          "text": [
            "<class 'pandas.core.frame.DataFrame'>\n",
            "<class 'pandas.core.frame.DataFrame'>\n"
          ]
        }
      ],
      "source": [
        "print(type(y_train))\n",
        "print(type(X_train))"
      ]
    },
    {
      "cell_type": "code",
      "execution_count": 24,
      "id": "ec408b40",
      "metadata": {},
      "outputs": [],
      "source": [
        "from sklearn.model_selection import ParameterGrid\n",
        "# Model chosing\n",
        "param_grid = [\n",
        "    {\n",
        "        \"model\": [LinearRegression()],\n",
        "        \"model__fit_intercept\": [True],       \n",
        "        \"model__copy_X\": [True],              \n",
        "        \"model__n_jobs\": [None]               \n",
        "    },\n",
        "    {\n",
        "        \"model\": [RandomForestRegressor()],\n",
        "        \"model__n_estimators\": [100],         \n",
        "        \"model__criterion\": [\"squared_error\"],\n",
        "        \"model__max_depth\": [None],           \n",
        "        \"model__min_samples_split\": [2],      \n",
        "        \"model__min_samples_leaf\": [1],       \n",
        "        \"model__n_jobs\": [None],              \n",
        "        \"model__random_state\": [None]         \n",
        "    },\n",
        "    {\n",
        "        \"model\": [SVR()],\n",
        "        \"model__kernel\": [\"rbf\"],             \n",
        "        \"model__degree\": [3],                 \n",
        "        \"model__gamma\": [\"scale\"],            \n",
        "        \"model__C\": [1.0],                    \n",
        "        \"model__epsilon\": [0.1]               \n",
        "    },\n",
        "    {\n",
        "        \"model\": [MLPRegressor()],\n",
        "        \"model__hidden_layer_sizes\": [(100,)],\n",
        "        \"model__activation\": [\"relu\"],        \n",
        "        \"model__solver\": [\"adam\"],            \n",
        "        \"model__alpha\": [0.0001],             \n",
        "        \"model__batch_size\": [\"auto\"],        \n",
        "        \"model__learning_rate\": [\"constant\"], \n",
        "        \"model__max_iter\": [200],             \n",
        "        \"model__random_state\": [None]         \n",
        "    }\n",
        "]\n",
        "grid = ParameterGrid(param_grid=param_grid)"
      ]
    },
    {
      "cell_type": "code",
      "execution_count": 26,
      "id": "0dfbd38f",
      "metadata": {},
      "outputs": [
        {
          "name": "stdout",
          "output_type": "stream",
          "text": [
            "                                              params           mse  \\\n",
            "0  {'model': LinearRegression(), 'model__copy_X':...  10600.076634   \n",
            "1  {'model': (DecisionTreeRegressor(max_features=...    609.679255   \n",
            "2  {'model': SVR(), 'model__C': 1.0, 'model__degr...  34194.346846   \n",
            "3  {'model': MLPRegressor(), 'model__activation':...   6653.422455   \n",
            "\n",
            "         rmse        mae        r2  \n",
            "0  102.956674  37.712955  0.843075  \n",
            "1   24.691684   3.774247  0.990974  \n",
            "2  184.917135  79.554280  0.493784  \n",
            "3   81.568514  19.928054  0.901502  \n"
          ]
        }
      ],
      "source": [
        "results = []\n",
        "\n",
        "for params in grid:\n",
        "    # Tạo pipeline với model tương ứng\n",
        "    pipe = Pipeline([\n",
        "        (\"preprocess\", preprocessing_pipeline),\n",
        "        (\"model\", params[\"model\"])\n",
        "    ])\n",
        "    pipe.set_params(**params)\n",
        "    pipe.set_output(transform=\"pandas\")\n",
        "    \n",
        "    pipe.fit(X_train, y_train)\n",
        "    # y_pred_scaled = pipe.predict(X_test)\n",
        "    # y_pred = pd.DataFrame(np.expm1(y_scaler.inverse_transform(y_pred_scaled.reshape(-1, 1))))\n",
        "    y_pred = pipe.predict(X_test)\n",
        "    \n",
        "    mse = mean_squared_error(y_test, y_pred)\n",
        "    rmse = np.sqrt(mse)\n",
        "    mae = mean_absolute_error(y_test, y_pred)\n",
        "    r2  = r2_score(y_test, y_pred)\n",
        "    \n",
        "    # Lưu kết quả\n",
        "    results.append({\n",
        "        \"params\": params,\n",
        "        \"mse\": mse,\n",
        "        \"rmse\": rmse,\n",
        "        \"mae\": mae,\n",
        "        \"r2\": r2\n",
        "    })\n",
        "\n",
        "# Xuất kết quả ra DataFrame\n",
        "df_results = pd.DataFrame(results)\n",
        "print(df_results)"
      ]
    },
    {
      "cell_type": "markdown",
      "id": "5yfrDnIBkC0C",
      "metadata": {
        "id": "5yfrDnIBkC0C"
      },
      "source": [
        "#Nhận xét và kết luận\n",
        "\n",
        "Dựa trên kết quả đánh giá, nhóm nhận thấy các mô hình có hiệu suất khác nhau đáng kể:\n",
        "- SVR có hiệu suất kém nhất với MSE cao nhất và R2 thấp nhất, cho thấy mô hình này không phù hợp với bộ dữ liệu.\n",
        "- Linear Regression cho kết quả khá tốt, với R2 là 0.9945, nhưng MSE vẫn còn cao, có thể bị ảnh hưởng bởi các giá trị ngoại lai.\n",
        "- Hai mô hình RandomForestRegressor và MLPRegressor có hiệu suất vượt trội, với R2 gần như tuyệt đối (trên 0.998).\n",
        "    - RandomForestRegressor có MAE rất thấp (0.5179), cho thấy sai số dự đoán trung bình chỉ khoảng $0.52.\n",
        "    - MLPRegressor có MSE thấp nhất (49.2128) và R2 cao nhất (0.9993), vượt trội hơn hẳn các mô hình còn lại.\n",
        "    \n",
        "Kết luận: Mô hình MLPRegressor là lựa chọn tốt nhất để dự đoán giá sản phẩm trên bộ dữ liệu này, với hiệu suất vượt trội về cả MSE và R2. RandomForestRegressor cũng là một lựa chọn mạnh mẽ và đáng cân nhắc."
      ]
    }
  ],
  "metadata": {
    "colab": {
      "provenance": []
    },
    "kernelspec": {
      "display_name": "dl_python_3.10",
      "language": "python",
      "name": "python3"
    },
    "language_info": {
      "codemirror_mode": {
        "name": "ipython",
        "version": 3
      },
      "file_extension": ".py",
      "mimetype": "text/x-python",
      "name": "python",
      "nbconvert_exporter": "python",
      "pygments_lexer": "ipython3",
      "version": "3.13.7"
    }
  },
  "nbformat": 4,
  "nbformat_minor": 5
}
